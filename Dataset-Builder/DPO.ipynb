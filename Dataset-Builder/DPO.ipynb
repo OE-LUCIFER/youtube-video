{
 "cells": [
  {
   "cell_type": "markdown",
   "metadata": {},
   "source": [
    "🚀 Let's explore Direct Preference Optimization (DPO) in AI, a cutting-edge technique revolutionizing how AI systems align with human values and preferences! 🌟\n",
    "\n",
    "### What is DPO?\n",
    "Direct Preference Optimization (DPO) is a fine-tuning technique for AI models, especially large language models (LLMs), enabling AI to learn directly from human preferences without relying on explicit rewards or complex objectives. Unlike traditional Reinforcement Learning from Human Feedback (RLHF), which involves reward models and policy optimization, DPO focuses on optimizing the model based on human preference comparisons.\n",
    "\n",
    "### How Does DPO Work?\n",
    "1. **Preference Elicitation:** Humans compare pairs of AI outputs (e.g., text or image alterations) and select their preferred option.\n",
    "\n",
    "2. **Model Update:** The AI model analyzes human choices and adjusts its internal parameters to generate outputs that better align with human preferences.\n",
    "\n",
    "3. **Iterative Improvement:** This iterative process refines the model's understanding of human preferences over time.\n",
    "\n",
    "### Benefits of DPO\n",
    "💡 **Simplicity and Efficiency:** DPO simplifies implementation and is computationally efficient by eliminating complex reward modeling and hyperparameter tuning.\n",
    "\n",
    "🎯 **Alignment with Nuanced Values:** DPO captures subtle human preferences that may be challenging to translate into explicit rewards.\n",
    "\n",
    "🌈 **Scalable Oversight:** Human evaluation focuses on comparing a manageable number of options, enhancing scalability.\n",
    "\n",
    "🌟 **Improved Performance:** Studies demonstrate that DPO can achieve performance comparable to or better than existing methods in tasks like sentiment control, summarization, and dialogue generation.\n",
    "\n",
    "### Why DPO is Different\n",
    "💡 **Focus:** DPO directly optimizes for aligning with preferences, contrasting with RLHF, which optimizes a learned reward model.\n",
    "\n",
    "🌈 **Complexity:** DPO is simpler and less computationally expensive compared to RLHF.\n",
    "\n",
    "🚀 **Flexibility:** DPO effectively captures nuanced preferences that reward models may struggle to accommodate.\n",
    "\n",
    "DPO is reshaping how AI systems interact with human values, offering a more aligned and user-friendly AI experience! 🌟🤖🌈"
   ]
  },
  {
   "cell_type": "code",
   "execution_count": null,
   "metadata": {},
   "outputs": [],
   "source": [
    "%pip install -q datasets trl peft bitsandbytes sentencepiece"
   ]
  },
  {
   "cell_type": "code",
   "execution_count": 2,
   "metadata": {},
   "outputs": [
    {
     "data": {
      "application/vnd.jupyter.widget-view+json": {
       "model_id": "c96bee8bac2340118f8668384e677a40",
       "version_major": 2,
       "version_minor": 0
      },
      "text/plain": [
       "VBox(children=(HTML(value='<center> <img\\nsrc=https://huggingface.co/front/assets/huggingface_logo-noborder.sv…"
      ]
     },
     "metadata": {},
     "output_type": "display_data"
    }
   ],
   "source": [
    "from huggingface_hub import notebook_login\n",
    "notebook_login()"
   ]
  },
  {
   "cell_type": "code",
   "execution_count": null,
   "metadata": {},
   "outputs": [],
   "source": [
    "import os\n",
    "import gc\n",
    "import torch\n",
    "\n",
    "import transformers\n",
    "from transformers import AutoModelForCausalLM, AutoTokenizer, TrainingArguments, BitsAndBytesConfig\n",
    "from datasets import load_dataset\n",
    "from peft import LoraConfig, PeftModel, get_peft_model, prepare_model_for_kbit_training\n",
    "from trl import DPOTrainer\n",
    "import bitsandbytes as bnb\n",
    "\n",
    "model_name = \"google/gemma-1.1-2b-it\"\n",
    "new_model = \"EI-gemma\""
   ]
  },
  {
   "cell_type": "code",
   "execution_count": null,
   "metadata": {},
   "outputs": [],
   "source": [
    "def chatml_format(example):\n",
    "    # Format instruction\n",
    "    message = {\"role\": \"user\", \"content\": example['prompt']}\n",
    "    prompt = tokenizer.apply_chat_template([message], tokenize=False, add_generation_prompt=True)\n",
    "\n",
    "    # Format chosen answer\n",
    "    chosen = example['chosen']\n",
    "\n",
    "    # Format rejected answer\n",
    "    rejected = example['rejected']\n",
    "\n",
    "    return {\n",
    "        \"prompt\": prompt,\n",
    "        \"chosen\": chosen,\n",
    "        \"rejected\": rejected,\n",
    "    }\n",
    "\n",
    "# Load dataset\n",
    "dataset = load_dataset(\"OEvortex/SentimentSynth\")['train']\n",
    "\n",
    "# Save columns\n",
    "original_columns = dataset.column_names\n",
    "\n",
    "# Tokenizer\n",
    "tokenizer = AutoTokenizer.from_pretrained(model_name)\n",
    "tokenizer.pad_token = tokenizer.eos_token\n",
    "# tokenizer.padding_side = \"left\"\n",
    "\n",
    "# Format dataset\n",
    "dataset = dataset.map(\n",
    "    chatml_format,\n",
    "    remove_columns=original_columns\n",
    ")\n",
    "\n",
    "# Print sample\n",
    "dataset[1]"
   ]
  },
  {
   "cell_type": "code",
   "execution_count": null,
   "metadata": {},
   "outputs": [],
   "source": [
    "# LoRA configuration\n",
    "peft_config = LoraConfig(\n",
    "    r=16,\n",
    "    lora_alpha=16,\n",
    "    lora_dropout=0.05,\n",
    "    bias=\"none\",\n",
    "    task_type=\"CAUSAL_LM\",\n",
    "    target_modules=['k_proj', 'gate_proj', 'v_proj', 'up_proj', 'q_proj', 'o_proj', 'down_proj']\n",
    ")\n",
    "\n",
    "# Model to fine-tune\n",
    "model = AutoModelForCausalLM.from_pretrained(\n",
    "    model_name,\n",
    "    torch_dtype=torch.float16,\n",
    "    load_in_4bit=True\n",
    ")\n",
    "model.config.use_cache = False\n",
    "\n",
    "# Training arguments\n",
    "training_args = TrainingArguments(\n",
    "    per_device_train_batch_size=4,\n",
    "    gradient_accumulation_steps=4,\n",
    "    gradient_checkpointing=True,\n",
    "    learning_rate=5e-5,\n",
    "    lr_scheduler_type=\"cosine\",\n",
    "    max_steps=200,\n",
    "    save_strategy=\"no\",\n",
    "    logging_steps=1,\n",
    "    output_dir=new_model,\n",
    "    optim=\"paged_adamw_32bit\",\n",
    "    warmup_steps=100,\n",
    "    bf16=True,\n",
    "    report_to=\"wandb\",\n",
    ")\n",
    "\n",
    "# Create DPO trainer\n",
    "dpo_trainer = DPOTrainer(\n",
    "    model,\n",
    "    args=training_args,\n",
    "    train_dataset=dataset,\n",
    "    tokenizer=tokenizer,\n",
    "    peft_config=peft_config,\n",
    "    beta=0.1,\n",
    "    max_prompt_length=1024,\n",
    "    max_length=1536,\n",
    ")\n",
    "\n",
    "\n"
   ]
  },
  {
   "cell_type": "code",
   "execution_count": null,
   "metadata": {},
   "outputs": [],
   "source": [
    "dpo_trainer.train()"
   ]
  },
  {
   "cell_type": "code",
   "execution_count": null,
   "metadata": {},
   "outputs": [],
   "source": [
    "# Save artifacts\n",
    "dpo_trainer.model.save_pretrained(\"final-model\")\n",
    "tokenizer.save_pretrained(\"final-model\")\n",
    "\n",
    "# Flush memory\n",
    "del dpo_trainer, model\n",
    "gc.collect()\n",
    "torch.cuda.empty_cache()\n",
    "\n",
    "# Reload model in FP16 (instead of NF4)\n",
    "base_model = AutoModelForCausalLM.from_pretrained(\n",
    "    model_name,\n",
    "    return_dict=True,\n",
    "    torch_dtype=torch.float16,\n",
    ")\n",
    "tokenizer = AutoTokenizer.from_pretrained(model_name)\n",
    "\n",
    "# Merge base model with the adapter\n",
    "model = PeftModel.from_pretrained(base_model, \"final-model\")\n",
    "model = model.merge_and_unload()\n",
    "\n",
    "# Save model and tokenizer\n",
    "model.save_pretrained(new_model)\n",
    "tokenizer.save_pretrained(new_model)\n",
    "\n",
    "# Push them to the HF Hub\n",
    "model.push_to_hub(new_model, use_temp_dir=False)\n",
    "tokenizer.push_to_hub(new_model, use_temp_dir=False)"
   ]
  }
 ],
 "metadata": {
  "kernelspec": {
   "display_name": "cloudspace",
   "language": "python",
   "name": "python3"
  },
  "language_info": {
   "codemirror_mode": {
    "name": "ipython",
    "version": 3
   },
   "file_extension": ".py",
   "mimetype": "text/x-python",
   "name": "python",
   "nbconvert_exporter": "python",
   "pygments_lexer": "ipython3",
   "version": "3.10.10"
  }
 },
 "nbformat": 4,
 "nbformat_minor": 2
}
