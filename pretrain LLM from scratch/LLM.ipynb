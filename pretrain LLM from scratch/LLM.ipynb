{
 "cells": [
  {
   "cell_type": "code",
   "execution_count": null,
   "metadata": {},
   "outputs": [],
   "source": [
    "%pip install datasets\n",
    "%pip install trl\n",
    "%pip install accelerate\n",
    "%pip install transformers[torch]\n",
    "%pip install bitsandbytes"
   ]
  },
  {
   "cell_type": "code",
   "execution_count": null,
   "metadata": {},
   "outputs": [],
   "source": [
    "from huggingface_hub import notebook_login\n",
    "notebook_login()"
   ]
  },
  {
   "cell_type": "code",
   "execution_count": null,
   "metadata": {},
   "outputs": [],
   "source": [
    "my_model = \"LLM\""
   ]
  },
  {
   "cell_type": "markdown",
   "metadata": {},
   "source": [
    "```python\n",
    "configuration = MistralConfig(\n",
    "    vocab_size=32000,  # Vocabulary size, yeh batata hai ki model kitne unique shabdon ko jaanta hai. Is case mein, 32000 shabdon ka vocab hai.\n",
    "    hidden_size=2048,  # Hidden layers ka size, yeh batata hai ki model ke hidden layers mein kitne neurons hain. Yahan, 2048 neurons hain.\n",
    "    intermediate_size=7168,  # Intermediate layer ka size, yeh batata hai ki model ke intermediate layer mein kitne neurons hain. Yahan, 7168 neurons hain.\n",
    "    num_hidden_layers=24,  # Model ke andar kitne layers hain, yeh batata hai. Is case mein, 24 layers hain.\n",
    "    num_attention_heads=32,  # Attention heads ki sankhya, yeh batata hai ki model kitne parts mein apna focus divide karta hai. Yahan, 32 attention heads hain.\n",
    "    num_key_value_heads=8,  # Yeh specialized attention heads hain jo context samajhne mein madad karte hain. Is case mein, 8 heads hain.\n",
    "    hidden_act=\"silu\",  # Activation function ka type jo model use karta hai. Yahan \"silu\" use ho raha hai.\n",
    "    max_position_embeddings=4096,  # Ek single text piece mein maximum kitne characters ho sakte hain, yeh batata hai. Yahan, 4096 characters ho sakte hain.\n",
    "    pad_token_id=2,  # Padding characters ka ID, jo text ko equal length banane ke liye use hota hai.\n",
    "    bos_token_id=1,  # Sentence ke start ka ID, jo batata hai ki sentence kahan se shuru hota hai.\n",
    "    eos_token_id=2  # Sentence ke end ka ID, jo batata hai ki sentence kahan khatam hota hai.\n",
    ")\n"
   ]
  },
  {
   "cell_type": "code",
   "execution_count": null,
   "metadata": {},
   "outputs": [],
   "source": [
    "# Importing the necessary libraries\n",
    "import torch\n",
    "from transformers import TrainingArguments, MistralForCausalLM, MistralConfig, AutoTokenizer\n",
    "from datasets import load_dataset\n",
    "from trl import SFTTrainer\n",
    "\n",
    "# Setting up the model configuration\n",
    "# We're configuring a smaller version of the model to fit our needs\n",
    "configuration = MistralConfig(\n",
    "    vocab_size=32000,  # Vocabulary size, how many unique words the model knows\n",
    "    hidden_size=2048,  # Size of the hidden layers in the model\n",
    "    intermediate_size=7168,  # Size of the middle layer in the model\n",
    "    num_hidden_layers=24,  # Number of layers in the model\n",
    "    num_attention_heads=32,  # How many 'attention' parts the model divides its focus into\n",
    "    num_key_value_heads=8,  # Specialized attention for understanding context\n",
    "    hidden_act=\"silu\",  # Type of activation function used in the model\n",
    "    max_position_embeddings=4096,  # Maximum number of characters in a single piece of text\n",
    "    pad_token_id=2,  # ID for padding characters\n",
    "    bos_token_id=1,  # ID for the start of a sentence\n",
    "    eos_token_id=2  # ID for the end of a sentence\n",
    ")\n"
   ]
  },
  {
   "cell_type": "code",
   "execution_count": null,
   "metadata": {},
   "outputs": [],
   "source": [
    "\n",
    "# Creating the model with the above configuration\n",
    "model = MistralForCausalLM(configuration)\n",
    "\n",
    "# Loading a pre-trained tokenizer\n",
    "tokenizer = AutoTokenizer.from_pretrained(\"mistralai/Mistral-7B-Instruct-v0.2\", local_files_only=False)\n",
    "\n",
    "# Setting the tokenizer's padding character to be the same as its end-of-sentence character\n",
    "tokenizer.pad_token = tokenizer.eos_token\n"
   ]
  },
  {
   "cell_type": "code",
   "execution_count": null,
   "metadata": {},
   "outputs": [],
   "source": [
    "\n",
    "# Loading the dataset we want to train on\n",
    "dataset = load_dataset('HuggingFaceTB/cosmopedia-20k', split=\"train\")\n",
    "\n",
    "# Randomly shuffling the dataset\n",
    "dataset = dataset.shuffle(seed=42)\n",
    "\n",
    "# Printing out some basic information about the dataset\n",
    "print(f'Number of prompts: {len(dataset)}')  # Total number of pieces of text\n",
    "print(f'Column names are: {dataset.column_names}')  # Names of the columns in the dataset\n"
   ]
  },
  {
   "cell_type": "code",
   "execution_count": null,
   "metadata": {},
   "outputs": [],
   "source": [
    "\n",
    "# Function to prepare each piece of text in the dataset for the model\n",
    "def create_prompt_formats(sample):\n",
    "    output_texts = []\n",
    "    for i in range(len(sample['text'])):\n",
    "        formatted_prompt = sample['text'][i]\n",
    "        output_texts.append(formatted_prompt)\n",
    "    return output_texts\n"
   ]
  },
  {
   "cell_type": "code",
   "execution_count": null,
   "metadata": {},
   "outputs": [],
   "source": [
    "\n",
    "# Setting up the trainer with the model, dataset, and other configurations\n",
    "trainer = SFTTrainer(\n",
    "    model=model,\n",
    "    train_dataset=dataset,\n",
    "    tokenizer=tokenizer,\n",
    "    max_seq_length=2048,  # Maximum length of text chunks for the model\n",
    "    formatting_func=create_prompt_formats,  # Function to format the data\n",
    "    args=TrainingArguments(\n",
    "        per_device_train_batch_size=2,  # How many texts to process at once\n",
    "        gradient_accumulation_steps=1,  # How often to update the model weights\n",
    "        warmup_steps=2,  # Initial phase where the model learns slowly\n",
    "        max_steps=2000,  # Total number of updates to the model\n",
    "        learning_rate=1e-4,  # Speed of learning\n",
    "        logging_steps=1,  # How often to log progress\n",
    "        output_dir=\"M_outputs\",  # Where to save the results\n",
    "        overwrite_output_dir=True,  # Whether to overwrite existing results\n",
    "        save_steps=1000,  # How often to save the current state of the model\n",
    "        optim=\"paged_adamw_32bit\",  # Which method to use for updating the model weights\n",
    "        report_to=\"none\"  # Where to send the training reports\n",
    "    )\n",
    ")\n"
   ]
  },
  {
   "cell_type": "code",
   "execution_count": null,
   "metadata": {},
   "outputs": [],
   "source": [
    "trainer.train()\n",
    "trainer.save_model(my_model)\n"
   ]
  },
  {
   "cell_type": "code",
   "execution_count": null,
   "metadata": {},
   "outputs": [],
   "source": [
    "model.push_to_hub(my_model, use_temp_dir=False)\n",
    "tokenizer.push_to_hub(my_model, use_temp_dir=False)"
   ]
  }
 ],
 "metadata": {
  "kernelspec": {
   "display_name": "Python 3",
   "language": "python",
   "name": "python3"
  },
  "language_info": {
   "codemirror_mode": {
    "name": "ipython",
    "version": 3
   },
   "file_extension": ".py",
   "mimetype": "text/x-python",
   "name": "python",
   "nbconvert_exporter": "python",
   "pygments_lexer": "ipython3",
   "version": "3.11.9"
  }
 },
 "nbformat": 4,
 "nbformat_minor": 2
}
