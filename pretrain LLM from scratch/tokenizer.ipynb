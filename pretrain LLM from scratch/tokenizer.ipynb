{
  "nbformat": 4,
  "nbformat_minor": 0,
  "metadata": {
    "colab": {
      "provenance": [],
      "authorship_tag": "ABX9TyMlDfS+/8qcCastL31Iqc/O",
      "include_colab_link": true
    },
    "kernelspec": {
      "name": "python3",
      "display_name": "Python 3"
    },
    "language_info": {
      "name": "python"
    },
    "widgets": {
      "application/vnd.jupyter.widget-state+json": {
        "ef0df1b9db6a48c18065b1148e90c401": {
          "model_module": "@jupyter-widgets/controls",
          "model_name": "VBoxModel",
          "model_module_version": "1.5.0",
          "state": {
            "_dom_classes": [],
            "_model_module": "@jupyter-widgets/controls",
            "_model_module_version": "1.5.0",
            "_model_name": "VBoxModel",
            "_view_count": null,
            "_view_module": "@jupyter-widgets/controls",
            "_view_module_version": "1.5.0",
            "_view_name": "VBoxView",
            "box_style": "",
            "children": [
              "IPY_MODEL_41a930108455403ca18eec57822a14bc",
              "IPY_MODEL_d7b8935b89cb4d51adba941a6679aa10",
              "IPY_MODEL_70d0b9e80d8b417a97c546be63b6575d",
              "IPY_MODEL_7b9f7200adcf4eacb4473a10572219ea",
              "IPY_MODEL_6e7d844bf042477398d97a59c6d0b83a"
            ],
            "layout": "IPY_MODEL_a1ed668cd09844deac1a196bad51ccd7"
          }
        },
        "41a930108455403ca18eec57822a14bc": {
          "model_module": "@jupyter-widgets/controls",
          "model_name": "HTMLModel",
          "model_module_version": "1.5.0",
          "state": {
            "_dom_classes": [],
            "_model_module": "@jupyter-widgets/controls",
            "_model_module_version": "1.5.0",
            "_model_name": "HTMLModel",
            "_view_count": null,
            "_view_module": "@jupyter-widgets/controls",
            "_view_module_version": "1.5.0",
            "_view_name": "HTMLView",
            "description": "",
            "description_tooltip": null,
            "layout": "IPY_MODEL_fe0b5fc987be403688c5ca97163e531c",
            "placeholder": "​",
            "style": "IPY_MODEL_962a93f249eb42e9affcdfd387d24ea7",
            "value": "<center> <img\nsrc=https://huggingface.co/front/assets/huggingface_logo-noborder.svg\nalt='Hugging Face'> <br> Copy a token from <a\nhref=\"https://huggingface.co/settings/tokens\" target=\"_blank\">your Hugging Face\ntokens page</a> and paste it below. <br> Immediately click login after copying\nyour token or it might be stored in plain text in this notebook file. </center>"
          }
        },
        "d7b8935b89cb4d51adba941a6679aa10": {
          "model_module": "@jupyter-widgets/controls",
          "model_name": "PasswordModel",
          "model_module_version": "1.5.0",
          "state": {
            "_dom_classes": [],
            "_model_module": "@jupyter-widgets/controls",
            "_model_module_version": "1.5.0",
            "_model_name": "PasswordModel",
            "_view_count": null,
            "_view_module": "@jupyter-widgets/controls",
            "_view_module_version": "1.5.0",
            "_view_name": "PasswordView",
            "continuous_update": true,
            "description": "Token:",
            "description_tooltip": null,
            "disabled": false,
            "layout": "IPY_MODEL_42c1a87a4e49427b89b237c37f1a7434",
            "placeholder": "​",
            "style": "IPY_MODEL_c7012676081f4a8791c863f773e225d9",
            "value": ""
          }
        },
        "70d0b9e80d8b417a97c546be63b6575d": {
          "model_module": "@jupyter-widgets/controls",
          "model_name": "CheckboxModel",
          "model_module_version": "1.5.0",
          "state": {
            "_dom_classes": [],
            "_model_module": "@jupyter-widgets/controls",
            "_model_module_version": "1.5.0",
            "_model_name": "CheckboxModel",
            "_view_count": null,
            "_view_module": "@jupyter-widgets/controls",
            "_view_module_version": "1.5.0",
            "_view_name": "CheckboxView",
            "description": "Add token as git credential?",
            "description_tooltip": null,
            "disabled": false,
            "indent": true,
            "layout": "IPY_MODEL_abffe7fb2dc5493ea2abd6ebcb3fe2ef",
            "style": "IPY_MODEL_3360d1b376ac47269e78b61676912ddc",
            "value": true
          }
        },
        "7b9f7200adcf4eacb4473a10572219ea": {
          "model_module": "@jupyter-widgets/controls",
          "model_name": "ButtonModel",
          "model_module_version": "1.5.0",
          "state": {
            "_dom_classes": [],
            "_model_module": "@jupyter-widgets/controls",
            "_model_module_version": "1.5.0",
            "_model_name": "ButtonModel",
            "_view_count": null,
            "_view_module": "@jupyter-widgets/controls",
            "_view_module_version": "1.5.0",
            "_view_name": "ButtonView",
            "button_style": "",
            "description": "Login",
            "disabled": false,
            "icon": "",
            "layout": "IPY_MODEL_fce541c194a3416190bd51820ace5a2f",
            "style": "IPY_MODEL_22b4874931cb48cfa1606755cdb303a5",
            "tooltip": ""
          }
        },
        "6e7d844bf042477398d97a59c6d0b83a": {
          "model_module": "@jupyter-widgets/controls",
          "model_name": "HTMLModel",
          "model_module_version": "1.5.0",
          "state": {
            "_dom_classes": [],
            "_model_module": "@jupyter-widgets/controls",
            "_model_module_version": "1.5.0",
            "_model_name": "HTMLModel",
            "_view_count": null,
            "_view_module": "@jupyter-widgets/controls",
            "_view_module_version": "1.5.0",
            "_view_name": "HTMLView",
            "description": "",
            "description_tooltip": null,
            "layout": "IPY_MODEL_4b864f7af195460a9e31f1da4520415b",
            "placeholder": "​",
            "style": "IPY_MODEL_d212544c19744da5b4758f50460e39e3",
            "value": "\n<b>Pro Tip:</b> If you don't already have one, you can create a dedicated\n'notebooks' token with 'write' access, that you can then easily reuse for all\nnotebooks. </center>"
          }
        },
        "a1ed668cd09844deac1a196bad51ccd7": {
          "model_module": "@jupyter-widgets/base",
          "model_name": "LayoutModel",
          "model_module_version": "1.2.0",
          "state": {
            "_model_module": "@jupyter-widgets/base",
            "_model_module_version": "1.2.0",
            "_model_name": "LayoutModel",
            "_view_count": null,
            "_view_module": "@jupyter-widgets/base",
            "_view_module_version": "1.2.0",
            "_view_name": "LayoutView",
            "align_content": null,
            "align_items": "center",
            "align_self": null,
            "border": null,
            "bottom": null,
            "display": "flex",
            "flex": null,
            "flex_flow": "column",
            "grid_area": null,
            "grid_auto_columns": null,
            "grid_auto_flow": null,
            "grid_auto_rows": null,
            "grid_column": null,
            "grid_gap": null,
            "grid_row": null,
            "grid_template_areas": null,
            "grid_template_columns": null,
            "grid_template_rows": null,
            "height": null,
            "justify_content": null,
            "justify_items": null,
            "left": null,
            "margin": null,
            "max_height": null,
            "max_width": null,
            "min_height": null,
            "min_width": null,
            "object_fit": null,
            "object_position": null,
            "order": null,
            "overflow": null,
            "overflow_x": null,
            "overflow_y": null,
            "padding": null,
            "right": null,
            "top": null,
            "visibility": null,
            "width": "50%"
          }
        },
        "fe0b5fc987be403688c5ca97163e531c": {
          "model_module": "@jupyter-widgets/base",
          "model_name": "LayoutModel",
          "model_module_version": "1.2.0",
          "state": {
            "_model_module": "@jupyter-widgets/base",
            "_model_module_version": "1.2.0",
            "_model_name": "LayoutModel",
            "_view_count": null,
            "_view_module": "@jupyter-widgets/base",
            "_view_module_version": "1.2.0",
            "_view_name": "LayoutView",
            "align_content": null,
            "align_items": null,
            "align_self": null,
            "border": null,
            "bottom": null,
            "display": null,
            "flex": null,
            "flex_flow": null,
            "grid_area": null,
            "grid_auto_columns": null,
            "grid_auto_flow": null,
            "grid_auto_rows": null,
            "grid_column": null,
            "grid_gap": null,
            "grid_row": null,
            "grid_template_areas": null,
            "grid_template_columns": null,
            "grid_template_rows": null,
            "height": null,
            "justify_content": null,
            "justify_items": null,
            "left": null,
            "margin": null,
            "max_height": null,
            "max_width": null,
            "min_height": null,
            "min_width": null,
            "object_fit": null,
            "object_position": null,
            "order": null,
            "overflow": null,
            "overflow_x": null,
            "overflow_y": null,
            "padding": null,
            "right": null,
            "top": null,
            "visibility": null,
            "width": null
          }
        },
        "962a93f249eb42e9affcdfd387d24ea7": {
          "model_module": "@jupyter-widgets/controls",
          "model_name": "DescriptionStyleModel",
          "model_module_version": "1.5.0",
          "state": {
            "_model_module": "@jupyter-widgets/controls",
            "_model_module_version": "1.5.0",
            "_model_name": "DescriptionStyleModel",
            "_view_count": null,
            "_view_module": "@jupyter-widgets/base",
            "_view_module_version": "1.2.0",
            "_view_name": "StyleView",
            "description_width": ""
          }
        },
        "42c1a87a4e49427b89b237c37f1a7434": {
          "model_module": "@jupyter-widgets/base",
          "model_name": "LayoutModel",
          "model_module_version": "1.2.0",
          "state": {
            "_model_module": "@jupyter-widgets/base",
            "_model_module_version": "1.2.0",
            "_model_name": "LayoutModel",
            "_view_count": null,
            "_view_module": "@jupyter-widgets/base",
            "_view_module_version": "1.2.0",
            "_view_name": "LayoutView",
            "align_content": null,
            "align_items": null,
            "align_self": null,
            "border": null,
            "bottom": null,
            "display": null,
            "flex": null,
            "flex_flow": null,
            "grid_area": null,
            "grid_auto_columns": null,
            "grid_auto_flow": null,
            "grid_auto_rows": null,
            "grid_column": null,
            "grid_gap": null,
            "grid_row": null,
            "grid_template_areas": null,
            "grid_template_columns": null,
            "grid_template_rows": null,
            "height": null,
            "justify_content": null,
            "justify_items": null,
            "left": null,
            "margin": null,
            "max_height": null,
            "max_width": null,
            "min_height": null,
            "min_width": null,
            "object_fit": null,
            "object_position": null,
            "order": null,
            "overflow": null,
            "overflow_x": null,
            "overflow_y": null,
            "padding": null,
            "right": null,
            "top": null,
            "visibility": null,
            "width": null
          }
        },
        "c7012676081f4a8791c863f773e225d9": {
          "model_module": "@jupyter-widgets/controls",
          "model_name": "DescriptionStyleModel",
          "model_module_version": "1.5.0",
          "state": {
            "_model_module": "@jupyter-widgets/controls",
            "_model_module_version": "1.5.0",
            "_model_name": "DescriptionStyleModel",
            "_view_count": null,
            "_view_module": "@jupyter-widgets/base",
            "_view_module_version": "1.2.0",
            "_view_name": "StyleView",
            "description_width": ""
          }
        },
        "abffe7fb2dc5493ea2abd6ebcb3fe2ef": {
          "model_module": "@jupyter-widgets/base",
          "model_name": "LayoutModel",
          "model_module_version": "1.2.0",
          "state": {
            "_model_module": "@jupyter-widgets/base",
            "_model_module_version": "1.2.0",
            "_model_name": "LayoutModel",
            "_view_count": null,
            "_view_module": "@jupyter-widgets/base",
            "_view_module_version": "1.2.0",
            "_view_name": "LayoutView",
            "align_content": null,
            "align_items": null,
            "align_self": null,
            "border": null,
            "bottom": null,
            "display": null,
            "flex": null,
            "flex_flow": null,
            "grid_area": null,
            "grid_auto_columns": null,
            "grid_auto_flow": null,
            "grid_auto_rows": null,
            "grid_column": null,
            "grid_gap": null,
            "grid_row": null,
            "grid_template_areas": null,
            "grid_template_columns": null,
            "grid_template_rows": null,
            "height": null,
            "justify_content": null,
            "justify_items": null,
            "left": null,
            "margin": null,
            "max_height": null,
            "max_width": null,
            "min_height": null,
            "min_width": null,
            "object_fit": null,
            "object_position": null,
            "order": null,
            "overflow": null,
            "overflow_x": null,
            "overflow_y": null,
            "padding": null,
            "right": null,
            "top": null,
            "visibility": null,
            "width": null
          }
        },
        "3360d1b376ac47269e78b61676912ddc": {
          "model_module": "@jupyter-widgets/controls",
          "model_name": "DescriptionStyleModel",
          "model_module_version": "1.5.0",
          "state": {
            "_model_module": "@jupyter-widgets/controls",
            "_model_module_version": "1.5.0",
            "_model_name": "DescriptionStyleModel",
            "_view_count": null,
            "_view_module": "@jupyter-widgets/base",
            "_view_module_version": "1.2.0",
            "_view_name": "StyleView",
            "description_width": ""
          }
        },
        "fce541c194a3416190bd51820ace5a2f": {
          "model_module": "@jupyter-widgets/base",
          "model_name": "LayoutModel",
          "model_module_version": "1.2.0",
          "state": {
            "_model_module": "@jupyter-widgets/base",
            "_model_module_version": "1.2.0",
            "_model_name": "LayoutModel",
            "_view_count": null,
            "_view_module": "@jupyter-widgets/base",
            "_view_module_version": "1.2.0",
            "_view_name": "LayoutView",
            "align_content": null,
            "align_items": null,
            "align_self": null,
            "border": null,
            "bottom": null,
            "display": null,
            "flex": null,
            "flex_flow": null,
            "grid_area": null,
            "grid_auto_columns": null,
            "grid_auto_flow": null,
            "grid_auto_rows": null,
            "grid_column": null,
            "grid_gap": null,
            "grid_row": null,
            "grid_template_areas": null,
            "grid_template_columns": null,
            "grid_template_rows": null,
            "height": null,
            "justify_content": null,
            "justify_items": null,
            "left": null,
            "margin": null,
            "max_height": null,
            "max_width": null,
            "min_height": null,
            "min_width": null,
            "object_fit": null,
            "object_position": null,
            "order": null,
            "overflow": null,
            "overflow_x": null,
            "overflow_y": null,
            "padding": null,
            "right": null,
            "top": null,
            "visibility": null,
            "width": null
          }
        },
        "22b4874931cb48cfa1606755cdb303a5": {
          "model_module": "@jupyter-widgets/controls",
          "model_name": "ButtonStyleModel",
          "model_module_version": "1.5.0",
          "state": {
            "_model_module": "@jupyter-widgets/controls",
            "_model_module_version": "1.5.0",
            "_model_name": "ButtonStyleModel",
            "_view_count": null,
            "_view_module": "@jupyter-widgets/base",
            "_view_module_version": "1.2.0",
            "_view_name": "StyleView",
            "button_color": null,
            "font_weight": ""
          }
        },
        "4b864f7af195460a9e31f1da4520415b": {
          "model_module": "@jupyter-widgets/base",
          "model_name": "LayoutModel",
          "model_module_version": "1.2.0",
          "state": {
            "_model_module": "@jupyter-widgets/base",
            "_model_module_version": "1.2.0",
            "_model_name": "LayoutModel",
            "_view_count": null,
            "_view_module": "@jupyter-widgets/base",
            "_view_module_version": "1.2.0",
            "_view_name": "LayoutView",
            "align_content": null,
            "align_items": null,
            "align_self": null,
            "border": null,
            "bottom": null,
            "display": null,
            "flex": null,
            "flex_flow": null,
            "grid_area": null,
            "grid_auto_columns": null,
            "grid_auto_flow": null,
            "grid_auto_rows": null,
            "grid_column": null,
            "grid_gap": null,
            "grid_row": null,
            "grid_template_areas": null,
            "grid_template_columns": null,
            "grid_template_rows": null,
            "height": null,
            "justify_content": null,
            "justify_items": null,
            "left": null,
            "margin": null,
            "max_height": null,
            "max_width": null,
            "min_height": null,
            "min_width": null,
            "object_fit": null,
            "object_position": null,
            "order": null,
            "overflow": null,
            "overflow_x": null,
            "overflow_y": null,
            "padding": null,
            "right": null,
            "top": null,
            "visibility": null,
            "width": null
          }
        },
        "d212544c19744da5b4758f50460e39e3": {
          "model_module": "@jupyter-widgets/controls",
          "model_name": "DescriptionStyleModel",
          "model_module_version": "1.5.0",
          "state": {
            "_model_module": "@jupyter-widgets/controls",
            "_model_module_version": "1.5.0",
            "_model_name": "DescriptionStyleModel",
            "_view_count": null,
            "_view_module": "@jupyter-widgets/base",
            "_view_module_version": "1.2.0",
            "_view_name": "StyleView",
            "description_width": ""
          }
        },
        "28fdc0b01e764f3285d382700d72288c": {
          "model_module": "@jupyter-widgets/controls",
          "model_name": "HBoxModel",
          "model_module_version": "1.5.0",
          "state": {
            "_dom_classes": [],
            "_model_module": "@jupyter-widgets/controls",
            "_model_module_version": "1.5.0",
            "_model_name": "HBoxModel",
            "_view_count": null,
            "_view_module": "@jupyter-widgets/controls",
            "_view_module_version": "1.5.0",
            "_view_name": "HBoxView",
            "box_style": "",
            "children": [
              "IPY_MODEL_001cfc92ad664a61a9b42e32f46a9e35",
              "IPY_MODEL_9b8e49b1df164d3a9b005141adc358dd",
              "IPY_MODEL_b119a225534344f7ad3ed0de613dcde3"
            ],
            "layout": "IPY_MODEL_bb161c988eea40a9b96b836cf54f987d"
          }
        },
        "001cfc92ad664a61a9b42e32f46a9e35": {
          "model_module": "@jupyter-widgets/controls",
          "model_name": "HTMLModel",
          "model_module_version": "1.5.0",
          "state": {
            "_dom_classes": [],
            "_model_module": "@jupyter-widgets/controls",
            "_model_module_version": "1.5.0",
            "_model_name": "HTMLModel",
            "_view_count": null,
            "_view_module": "@jupyter-widgets/controls",
            "_view_module_version": "1.5.0",
            "_view_name": "HTMLView",
            "description": "",
            "description_tooltip": null,
            "layout": "IPY_MODEL_9c3e6070e3fb44ab981232e459d95b8a",
            "placeholder": "​",
            "style": "IPY_MODEL_3ef29c2c39b343ea9ff7656d31bcfbc5",
            "value": "README.md: 100%"
          }
        },
        "9b8e49b1df164d3a9b005141adc358dd": {
          "model_module": "@jupyter-widgets/controls",
          "model_name": "FloatProgressModel",
          "model_module_version": "1.5.0",
          "state": {
            "_dom_classes": [],
            "_model_module": "@jupyter-widgets/controls",
            "_model_module_version": "1.5.0",
            "_model_name": "FloatProgressModel",
            "_view_count": null,
            "_view_module": "@jupyter-widgets/controls",
            "_view_module_version": "1.5.0",
            "_view_name": "ProgressView",
            "bar_style": "success",
            "description": "",
            "description_tooltip": null,
            "layout": "IPY_MODEL_955a78fe6c0a46acaa13f84249db7b9e",
            "max": 5178,
            "min": 0,
            "orientation": "horizontal",
            "style": "IPY_MODEL_8f9ef3d1894f4af0aa905edd46983fa5",
            "value": 5178
          }
        },
        "b119a225534344f7ad3ed0de613dcde3": {
          "model_module": "@jupyter-widgets/controls",
          "model_name": "HTMLModel",
          "model_module_version": "1.5.0",
          "state": {
            "_dom_classes": [],
            "_model_module": "@jupyter-widgets/controls",
            "_model_module_version": "1.5.0",
            "_model_name": "HTMLModel",
            "_view_count": null,
            "_view_module": "@jupyter-widgets/controls",
            "_view_module_version": "1.5.0",
            "_view_name": "HTMLView",
            "description": "",
            "description_tooltip": null,
            "layout": "IPY_MODEL_24f6d1a6ca0d48c8a8606bd2d4dc84d8",
            "placeholder": "​",
            "style": "IPY_MODEL_3da87637fe6d4f779a0797d494cede46",
            "value": " 5.18k/5.18k [00:00&lt;00:00, 160kB/s]"
          }
        },
        "bb161c988eea40a9b96b836cf54f987d": {
          "model_module": "@jupyter-widgets/base",
          "model_name": "LayoutModel",
          "model_module_version": "1.2.0",
          "state": {
            "_model_module": "@jupyter-widgets/base",
            "_model_module_version": "1.2.0",
            "_model_name": "LayoutModel",
            "_view_count": null,
            "_view_module": "@jupyter-widgets/base",
            "_view_module_version": "1.2.0",
            "_view_name": "LayoutView",
            "align_content": null,
            "align_items": null,
            "align_self": null,
            "border": null,
            "bottom": null,
            "display": null,
            "flex": null,
            "flex_flow": null,
            "grid_area": null,
            "grid_auto_columns": null,
            "grid_auto_flow": null,
            "grid_auto_rows": null,
            "grid_column": null,
            "grid_gap": null,
            "grid_row": null,
            "grid_template_areas": null,
            "grid_template_columns": null,
            "grid_template_rows": null,
            "height": null,
            "justify_content": null,
            "justify_items": null,
            "left": null,
            "margin": null,
            "max_height": null,
            "max_width": null,
            "min_height": null,
            "min_width": null,
            "object_fit": null,
            "object_position": null,
            "order": null,
            "overflow": null,
            "overflow_x": null,
            "overflow_y": null,
            "padding": null,
            "right": null,
            "top": null,
            "visibility": null,
            "width": null
          }
        },
        "9c3e6070e3fb44ab981232e459d95b8a": {
          "model_module": "@jupyter-widgets/base",
          "model_name": "LayoutModel",
          "model_module_version": "1.2.0",
          "state": {
            "_model_module": "@jupyter-widgets/base",
            "_model_module_version": "1.2.0",
            "_model_name": "LayoutModel",
            "_view_count": null,
            "_view_module": "@jupyter-widgets/base",
            "_view_module_version": "1.2.0",
            "_view_name": "LayoutView",
            "align_content": null,
            "align_items": null,
            "align_self": null,
            "border": null,
            "bottom": null,
            "display": null,
            "flex": null,
            "flex_flow": null,
            "grid_area": null,
            "grid_auto_columns": null,
            "grid_auto_flow": null,
            "grid_auto_rows": null,
            "grid_column": null,
            "grid_gap": null,
            "grid_row": null,
            "grid_template_areas": null,
            "grid_template_columns": null,
            "grid_template_rows": null,
            "height": null,
            "justify_content": null,
            "justify_items": null,
            "left": null,
            "margin": null,
            "max_height": null,
            "max_width": null,
            "min_height": null,
            "min_width": null,
            "object_fit": null,
            "object_position": null,
            "order": null,
            "overflow": null,
            "overflow_x": null,
            "overflow_y": null,
            "padding": null,
            "right": null,
            "top": null,
            "visibility": null,
            "width": null
          }
        },
        "3ef29c2c39b343ea9ff7656d31bcfbc5": {
          "model_module": "@jupyter-widgets/controls",
          "model_name": "DescriptionStyleModel",
          "model_module_version": "1.5.0",
          "state": {
            "_model_module": "@jupyter-widgets/controls",
            "_model_module_version": "1.5.0",
            "_model_name": "DescriptionStyleModel",
            "_view_count": null,
            "_view_module": "@jupyter-widgets/base",
            "_view_module_version": "1.2.0",
            "_view_name": "StyleView",
            "description_width": ""
          }
        },
        "955a78fe6c0a46acaa13f84249db7b9e": {
          "model_module": "@jupyter-widgets/base",
          "model_name": "LayoutModel",
          "model_module_version": "1.2.0",
          "state": {
            "_model_module": "@jupyter-widgets/base",
            "_model_module_version": "1.2.0",
            "_model_name": "LayoutModel",
            "_view_count": null,
            "_view_module": "@jupyter-widgets/base",
            "_view_module_version": "1.2.0",
            "_view_name": "LayoutView",
            "align_content": null,
            "align_items": null,
            "align_self": null,
            "border": null,
            "bottom": null,
            "display": null,
            "flex": null,
            "flex_flow": null,
            "grid_area": null,
            "grid_auto_columns": null,
            "grid_auto_flow": null,
            "grid_auto_rows": null,
            "grid_column": null,
            "grid_gap": null,
            "grid_row": null,
            "grid_template_areas": null,
            "grid_template_columns": null,
            "grid_template_rows": null,
            "height": null,
            "justify_content": null,
            "justify_items": null,
            "left": null,
            "margin": null,
            "max_height": null,
            "max_width": null,
            "min_height": null,
            "min_width": null,
            "object_fit": null,
            "object_position": null,
            "order": null,
            "overflow": null,
            "overflow_x": null,
            "overflow_y": null,
            "padding": null,
            "right": null,
            "top": null,
            "visibility": null,
            "width": null
          }
        },
        "8f9ef3d1894f4af0aa905edd46983fa5": {
          "model_module": "@jupyter-widgets/controls",
          "model_name": "ProgressStyleModel",
          "model_module_version": "1.5.0",
          "state": {
            "_model_module": "@jupyter-widgets/controls",
            "_model_module_version": "1.5.0",
            "_model_name": "ProgressStyleModel",
            "_view_count": null,
            "_view_module": "@jupyter-widgets/base",
            "_view_module_version": "1.2.0",
            "_view_name": "StyleView",
            "bar_color": null,
            "description_width": ""
          }
        },
        "24f6d1a6ca0d48c8a8606bd2d4dc84d8": {
          "model_module": "@jupyter-widgets/base",
          "model_name": "LayoutModel",
          "model_module_version": "1.2.0",
          "state": {
            "_model_module": "@jupyter-widgets/base",
            "_model_module_version": "1.2.0",
            "_model_name": "LayoutModel",
            "_view_count": null,
            "_view_module": "@jupyter-widgets/base",
            "_view_module_version": "1.2.0",
            "_view_name": "LayoutView",
            "align_content": null,
            "align_items": null,
            "align_self": null,
            "border": null,
            "bottom": null,
            "display": null,
            "flex": null,
            "flex_flow": null,
            "grid_area": null,
            "grid_auto_columns": null,
            "grid_auto_flow": null,
            "grid_auto_rows": null,
            "grid_column": null,
            "grid_gap": null,
            "grid_row": null,
            "grid_template_areas": null,
            "grid_template_columns": null,
            "grid_template_rows": null,
            "height": null,
            "justify_content": null,
            "justify_items": null,
            "left": null,
            "margin": null,
            "max_height": null,
            "max_width": null,
            "min_height": null,
            "min_width": null,
            "object_fit": null,
            "object_position": null,
            "order": null,
            "overflow": null,
            "overflow_x": null,
            "overflow_y": null,
            "padding": null,
            "right": null,
            "top": null,
            "visibility": null,
            "width": null
          }
        },
        "3da87637fe6d4f779a0797d494cede46": {
          "model_module": "@jupyter-widgets/controls",
          "model_name": "DescriptionStyleModel",
          "model_module_version": "1.5.0",
          "state": {
            "_model_module": "@jupyter-widgets/controls",
            "_model_module_version": "1.5.0",
            "_model_name": "DescriptionStyleModel",
            "_view_count": null,
            "_view_module": "@jupyter-widgets/base",
            "_view_module_version": "1.2.0",
            "_view_name": "StyleView",
            "description_width": ""
          }
        }
      }
    }
  },
  "cells": [
    {
      "cell_type": "markdown",
      "metadata": {
        "id": "view-in-github",
        "colab_type": "text"
      },
      "source": [
        "<a href=\"https://colab.research.google.com/github/OE-LUCIFER/youtube-video/blob/main/pretrain%20LLM%20from%20scratch/tokenizer.ipynb\" target=\"_parent\"><img src=\"https://colab.research.google.com/assets/colab-badge.svg\" alt=\"Open In Colab\"/></a>"
      ]
    },
    {
      "cell_type": "markdown",
      "source": [
        "# Modify old open source tokenizer"
      ],
      "metadata": {
        "id": "etclMsKPrQ37"
      }
    },
    {
      "cell_type": "markdown",
      "source": [
        "**This Line installs NLP packages: `datasets`, `transformers`, and `sentencepiece`.**"
      ],
      "metadata": {
        "id": "CdmiRw3NsNV0"
      }
    },
    {
      "cell_type": "code",
      "execution_count": 16,
      "metadata": {
        "colab": {
          "base_uri": "https://localhost:8080/"
        },
        "id": "POpX6dMrq5-i",
        "outputId": "c63d994c-51cc-41cc-a36a-f387cd3d743e"
      },
      "outputs": [
        {
          "output_type": "stream",
          "name": "stdout",
          "text": [
            "Requirement already satisfied: datasets in /usr/local/lib/python3.10/dist-packages (2.18.0)\n",
            "Requirement already satisfied: transformers[sentencepiece] in /usr/local/lib/python3.10/dist-packages (4.38.2)\n",
            "Requirement already satisfied: filelock in /usr/local/lib/python3.10/dist-packages (from datasets) (3.13.3)\n",
            "Requirement already satisfied: numpy>=1.17 in /usr/local/lib/python3.10/dist-packages (from datasets) (1.25.2)\n",
            "Requirement already satisfied: pyarrow>=12.0.0 in /usr/local/lib/python3.10/dist-packages (from datasets) (14.0.2)\n",
            "Requirement already satisfied: pyarrow-hotfix in /usr/local/lib/python3.10/dist-packages (from datasets) (0.6)\n",
            "Requirement already satisfied: dill<0.3.9,>=0.3.0 in /usr/local/lib/python3.10/dist-packages (from datasets) (0.3.8)\n",
            "Requirement already satisfied: pandas in /usr/local/lib/python3.10/dist-packages (from datasets) (1.5.3)\n",
            "Requirement already satisfied: requests>=2.19.0 in /usr/local/lib/python3.10/dist-packages (from datasets) (2.31.0)\n",
            "Requirement already satisfied: tqdm>=4.62.1 in /usr/local/lib/python3.10/dist-packages (from datasets) (4.66.2)\n",
            "Requirement already satisfied: xxhash in /usr/local/lib/python3.10/dist-packages (from datasets) (3.4.1)\n",
            "Requirement already satisfied: multiprocess in /usr/local/lib/python3.10/dist-packages (from datasets) (0.70.16)\n",
            "Requirement already satisfied: fsspec[http]<=2024.2.0,>=2023.1.0 in /usr/local/lib/python3.10/dist-packages (from datasets) (2023.6.0)\n",
            "Requirement already satisfied: aiohttp in /usr/local/lib/python3.10/dist-packages (from datasets) (3.9.3)\n",
            "Requirement already satisfied: huggingface-hub>=0.19.4 in /usr/local/lib/python3.10/dist-packages (from datasets) (0.20.3)\n",
            "Requirement already satisfied: packaging in /usr/local/lib/python3.10/dist-packages (from datasets) (24.0)\n",
            "Requirement already satisfied: pyyaml>=5.1 in /usr/local/lib/python3.10/dist-packages (from datasets) (6.0.1)\n",
            "Requirement already satisfied: regex!=2019.12.17 in /usr/local/lib/python3.10/dist-packages (from transformers[sentencepiece]) (2023.12.25)\n",
            "Requirement already satisfied: tokenizers<0.19,>=0.14 in /usr/local/lib/python3.10/dist-packages (from transformers[sentencepiece]) (0.15.2)\n",
            "Requirement already satisfied: safetensors>=0.4.1 in /usr/local/lib/python3.10/dist-packages (from transformers[sentencepiece]) (0.4.2)\n",
            "Requirement already satisfied: sentencepiece!=0.1.92,>=0.1.91 in /usr/local/lib/python3.10/dist-packages (from transformers[sentencepiece]) (0.1.99)\n",
            "Requirement already satisfied: protobuf in /usr/local/lib/python3.10/dist-packages (from transformers[sentencepiece]) (3.20.3)\n",
            "Requirement already satisfied: aiosignal>=1.1.2 in /usr/local/lib/python3.10/dist-packages (from aiohttp->datasets) (1.3.1)\n",
            "Requirement already satisfied: attrs>=17.3.0 in /usr/local/lib/python3.10/dist-packages (from aiohttp->datasets) (23.2.0)\n",
            "Requirement already satisfied: frozenlist>=1.1.1 in /usr/local/lib/python3.10/dist-packages (from aiohttp->datasets) (1.4.1)\n",
            "Requirement already satisfied: multidict<7.0,>=4.5 in /usr/local/lib/python3.10/dist-packages (from aiohttp->datasets) (6.0.5)\n",
            "Requirement already satisfied: yarl<2.0,>=1.0 in /usr/local/lib/python3.10/dist-packages (from aiohttp->datasets) (1.9.4)\n",
            "Requirement already satisfied: async-timeout<5.0,>=4.0 in /usr/local/lib/python3.10/dist-packages (from aiohttp->datasets) (4.0.3)\n",
            "Requirement already satisfied: typing-extensions>=3.7.4.3 in /usr/local/lib/python3.10/dist-packages (from huggingface-hub>=0.19.4->datasets) (4.10.0)\n",
            "Requirement already satisfied: charset-normalizer<4,>=2 in /usr/local/lib/python3.10/dist-packages (from requests>=2.19.0->datasets) (3.3.2)\n",
            "Requirement already satisfied: idna<4,>=2.5 in /usr/local/lib/python3.10/dist-packages (from requests>=2.19.0->datasets) (3.6)\n",
            "Requirement already satisfied: urllib3<3,>=1.21.1 in /usr/local/lib/python3.10/dist-packages (from requests>=2.19.0->datasets) (2.0.7)\n",
            "Requirement already satisfied: certifi>=2017.4.17 in /usr/local/lib/python3.10/dist-packages (from requests>=2.19.0->datasets) (2024.2.2)\n",
            "Requirement already satisfied: python-dateutil>=2.8.1 in /usr/local/lib/python3.10/dist-packages (from pandas->datasets) (2.8.2)\n",
            "Requirement already satisfied: pytz>=2020.1 in /usr/local/lib/python3.10/dist-packages (from pandas->datasets) (2023.4)\n",
            "Requirement already satisfied: six>=1.5 in /usr/local/lib/python3.10/dist-packages (from python-dateutil>=2.8.1->pandas->datasets) (1.16.0)\n"
          ]
        }
      ],
      "source": [
        "!pip install datasets transformers[sentencepiece]"
      ]
    },
    {
      "cell_type": "markdown",
      "source": [
        "***Dataset Loading***"
      ],
      "metadata": {
        "id": "e9HHI5CTsY3L"
      }
    },
    {
      "cell_type": "code",
      "source": [
        "from datasets import load_dataset"
      ],
      "metadata": {
        "id": "jA7Gf6easTap"
      },
      "execution_count": 17,
      "outputs": []
    },
    {
      "cell_type": "markdown",
      "source": [
        "Here i am using my own dataset but you can use any of your choice"
      ],
      "metadata": {
        "id": "hjjZxBqwtP_s"
      }
    },
    {
      "cell_type": "code",
      "source": [
        "dataset = load_dataset(\"OEvortex/Vortex-50k\", split=\"train\")"
      ],
      "metadata": {
        "id": "MrP1VUq8soYf"
      },
      "execution_count": 18,
      "outputs": []
    },
    {
      "cell_type": "markdown",
      "source": [
        "We can have a look at the dataset, which as **50000** texts:"
      ],
      "metadata": {
        "id": "hTBs0zXVssc2"
      }
    },
    {
      "cell_type": "code",
      "source": [
        "dataset"
      ],
      "metadata": {
        "colab": {
          "base_uri": "https://localhost:8080/"
        },
        "id": "uYDpfvNkssFd",
        "outputId": "a2d32ca3-23df-4eff-e03f-44492cb3d017"
      },
      "execution_count": 19,
      "outputs": [
        {
          "output_type": "execute_result",
          "data": {
            "text/plain": [
              "Dataset({\n",
              "    features: ['instruction', 'input', 'output'],\n",
              "    num_rows: 50000\n",
              "})"
            ]
          },
          "metadata": {},
          "execution_count": 19
        }
      ]
    },
    {
      "cell_type": "code",
      "source": [
        "dataset[1]"
      ],
      "metadata": {
        "colab": {
          "base_uri": "https://localhost:8080/"
        },
        "id": "XR7Ao3zetcnD",
        "outputId": "98df5036-872a-45fe-f7e1-5d8a49d34cf0"
      },
      "execution_count": 20,
      "outputs": [
        {
          "output_type": "execute_result",
          "data": {
            "text/plain": [
              "{'instruction': 'A text is given in Bengali. Translate it from the Bengali language to the Malayalam language. The translation must not omit or add information to the original sentence.\\n\\nইউরিয়ার অপব্যবহার রুখতে ১০০ শতাংশ হারে ইউরিয়ার ওপর নিমের প্রলেপ দেওয়া হচ্ছে।',\n",
              " 'input': '',\n",
              " 'output': 'യൂറിയയുടെ ലഭ്യത ഉറപ്പുവരുത്തുന്നതിനും അതിന്റെ ദുരുപയോഗം തടയുന്നതിനും 100 ശതമാനം വേപ്പണ്ണപുരട്ടിയ യൂറിയ ലഭ്യമാക്കി.'}"
            ]
          },
          "metadata": {},
          "execution_count": 20
        }
      ]
    },
    {
      "cell_type": "code",
      "source": [
        "dataset[:10]"
      ],
      "metadata": {
        "colab": {
          "base_uri": "https://localhost:8080/"
        },
        "id": "jBNkTlXxtfw1",
        "outputId": "66f50262-27e5-455d-b030-f263d0fa9f58"
      },
      "execution_count": 21,
      "outputs": [
        {
          "output_type": "execute_result",
          "data": {
            "text/plain": [
              "{'instruction': ['You are given a dialogue between two people. output their relationship status. here is an example:\\n\\nNow complete the following instance -\\nInput: Dialogue:\\n- Agent: Hi, how can I help you?\\n- Customer: I am looking for a new pair of shoes.\\nOutput:',\n",
              "  'A text is given in Bengali. Translate it from the Bengali language to the Malayalam language. The translation must not omit or add information to the original sentence.\\n\\nইউরিয়ার অপব্যবহার রুখতে ১০০ শতাংশ হারে ইউরিয়ার ওপর নিমের প্রলেপ দেওয়া হচ্ছে।',\n",
              "  'In this task, you are given a list of words. The task is to find the word that has the most occurrences in the list. If there is a tie, return all of the tied words in alphabetical order, separated by commas.\\nThe output should be a string containing the word with the most occurrences or a comma-separated string of tied words (in alphabetical order).\\n\\nConstraints,Pedestrian,Car,Bicycle,Motorcycle.',\n",
              "  '¡Juguemos! Elige secretamente un número del 1 al 100, y no me lo digas. Después yo te diré un número al azar que esté en ese rango, y tú me dirás qué tan lejos me quedé del número que habías elegido (muy lejos, lejos, cerca, muy cerca). En caso que no haya acertado volvemos a repetir la dinámica, ¡hasta que yo acierte!',\n",
              "  'Teacher: One of the following sentences is nonsensical. Which one is it?\\nOptions:\\n- Sentence A: \"Smoking may cause cancer\"\\n- Sentence B: \"Only smoking may cause cancer\"\\n\\nStudent: There are many factors that can lead to cancer besides smoking.\\nThe answer is Sentence B.\\nquestion in book:\\nPick which sentence is not logical.\\nOptions:\\n- Sentence A: \"He went to the police station to withdraw cash.\"\\n- Sentence B: \"He went to the bank to withdraw cash.\"\\n\\nstandard solution:\\nPolice station is a place to file criminal complaints.\\nThe answer is Sentence A.\\n[TEACHER] Of the below sentences, which one does *not* make sense?\\nOptions:\\n- Sentence A: \"We can see stars at day\"\\n- Sentence B: \"We can see stars at night\"\\n\\n[Student] Due to the bright sunlight stars cannot be seen during the day.\\nThe answer is Sentence A.\\nTeacher: Pick which sentence is not logical.\\nOptions:\\n- Sentence A: \"She went to the movies to watch a new movie.\"\\n- Sentence B: \"She went to the beacg to watch a new movie.\"\\n\\nStudent: Beach is not a place where you watch a new movie.\\nThe answer is Sentence B.\\nquestion in book:\\nWhich of the following two sentences does not make sense?\\nOptions:\\n- Sentence A: \"Duct tape can be used to seal air.\"\\n- Sentence B: \"Duct tape can be used to seal air ducts.\"\\n\\nstandard solution:\\nIt can seal things that hold air but not air itself.\\nThe answer is Sentence A.\\nTeacher: Which of the following sentences is nonsensical?\\nOptions:\\n- Sentence A: \"She chewed properly because her tooth ached.\"\\n- Sentence B: \"She couldn\\'t chew properly because her tooth ached.\"\\n\\nStudent:',\n",
              "  'Question: \"Nyctochroa\", given a list of categories: company, educational institution, artist, athlete, office holder, mean of transportation, building, natural place, village, animal, plant, album, film or written work, what category does the title belong to?\\nAnswer: Animal\\n\\nQuestion: \"Neil McKinlay\", given a list of categories: company, educational institution, artist, athlete, office holder, mean of transportation, building, natural place, village, animal, plant, album, film or written work, what category does the title belong to?\\nAnswer: Athlete\\n\\nQuestion: \"USS Capable (AM-155)\", given a list of categories: company, educational institution, artist, athlete, office holder, mean of transportation, building, natural place, village, animal, plant, album, film or written work, what category does the title belong to?\\nAnswer:',\n",
              "  'Why did Christopher Columbus think he had sailed to Asia instead of America? What maps did he have at his disposal?\\n\\nAnswer:',\n",
              "  'Explain why this text should be read by everyone.\\n\\nText: I think that everyone should read this text. It is very interesting and useful for everyone.',\n",
              "  'I am curious, do you know what Mongolian blue spots are?',\n",
              "  'What is the purpose of multi-label classification?'],\n",
              " 'input': ['', '', '', '', '', '', '', '', '', ''],\n",
              " 'output': ['Friends',\n",
              "  'യൂറിയയുടെ ലഭ്യത ഉറപ്പുവരുത്തുന്നതിനും അതിന്റെ ദുരുപയോഗം തടയുന്നതിനും 100 ശതമാനം വേപ്പണ്ണപുരട്ടിയ യൂറിയ ലഭ്യമാക്കി.',\n",
              "  'Car,Pedestrian',\n",
              "  'Vale, cuando quieras dime el número que has pensado.',\n",
              "  'When your teeth ache it is difficult to chew.\\nThe answer is Sentence A.',\n",
              "  'Mean Of Transportation',\n",
              "  \"The reason behind Columbus' belief that he had reached Asia is depicted on a map of the Atlantic Ocean from 1474, created by Florentine mathematician, astronomer, and cosmographer Paolo dal Pozzo Toscanelli. This map was later included in a literary and historical atlas of America by Bartholomew in 1884, with light blue areas marking regions that were not originally present on the map.\\n\\nToscanelli served as an inspiration for Columbus, who received a letter from him on June 25, 1474. The letter was sent to canon Fernam Martins in Lisbon, who consulted Toscanelli on behalf of King Alfonso V about the possibility of reaching India through a western route.\\n\\nThe map clearly shows that Columbus was both inspired and misguided by Toscanelli's plan, which underestimated the Earth's circumference. This miscalculation led Columbus to believe that he had reached Japan instead of a completely new and unfamiliar continent lying between Europe and Asia.\\n\\nToscanelli's proposed plan involved sailing west along the equator to reach India and the wealthy countries of East Asia. The map that Toscanelli enclosed, which is now lost, included the western fringes of Europe and Africa, as well as the eastern fringes of Asia, with the Atlantic Ocean in between. However, Toscanelli mistakenly believed that the distance was only one-third of the Earth's circumference, far less than the actual distance.\\n\\nIn a letter, Toscanelli writes, among other things:\\n\\nI have already spoken once before of a route across the sea to the land of spices, much shorter than that of the Portuguese across Guinea. That is why His Highness the King is now asking me for information on this subject, or rather for an explanation so clear that even people without any scientific background can understand that this path must exist. Although I know that it has its basis in the spherical shape of the earth, I have nevertheless, in order to make myself better understood and facilitate the project, decided to prove that such a route exists by means of a specially constructed sea chart. I am therefore sending his highness a map drawn by myself, on which I have marked the coasts and islands which can be used as points of departure when one undertakes such a journey and on this journey keeps a steady westerly course\",\n",
              "  'This text contains a lot of information about the history of programming languages, which is very important to know for every programmer.',\n",
              "  'Yes, Mongolian blue spots are a type of birthmark that appear bluish-gray in color and are usually found on the lower back or buttocks. They are quite common in newborns and young children with darker skin tones.',\n",
              "  'The purpose of multi-label classification is to predict multiple labels associated with a given instance of data. This is useful in applications such as text categorization, object recognition, and medical diagnosis where multiple labels can be assigned to a given data point. Multi-label classification algorithms are used to accurately and efficiently label instances of data with multiple labels that may have ambiguous boundaries such as in text categorization.']}"
            ]
          },
          "metadata": {},
          "execution_count": 21
        }
      ]
    },
    {
      "cell_type": "code",
      "source": [
        "batch_size = 20000\n",
        "\n",
        "all_instructions = [dataset[i : i + batch_size][\"instruction\"] for i in range(0, len(dataset), batch_size)]\n",
        "all_outputs = [dataset[i : i + batch_size][\"output\"] for i in range(0, len(dataset), batch_size)]\n",
        "\n",
        "def batch_iterator():\n",
        "    for i in range(0, len(dataset), batch_size):\n",
        "        instructions = dataset[i : i + batch_size][\"instruction\"]\n",
        "        outputs = dataset[i : i + batch_size][\"output\"]\n",
        "        for instruction, output in zip(instructions, outputs):\n",
        "            yield instruction + \" \" + output\n"
      ],
      "metadata": {
        "id": "SehNwh1Pth0N"
      },
      "execution_count": 22,
      "outputs": []
    },
    {
      "cell_type": "markdown",
      "source": [
        "****Here I am using a modified GPTNeoX Tokenizer****"
      ],
      "metadata": {
        "id": "-QDmiqc3uGi8"
      }
    },
    {
      "cell_type": "code",
      "source": [
        "from transformers import AutoTokenizer\n",
        "\n",
        "tokenizer = AutoTokenizer.from_pretrained(\"OEvortex/HelpingAI-3B\")"
      ],
      "metadata": {
        "colab": {
          "base_uri": "https://localhost:8080/"
        },
        "id": "aZF8vPxcuG9B",
        "outputId": "697ec588-1de4-46ad-f99d-fd363dac31ee"
      },
      "execution_count": 23,
      "outputs": [
        {
          "output_type": "stream",
          "name": "stderr",
          "text": [
            "Special tokens have been added in the vocabulary, make sure the associated word embeddings are fine-tuned or trained.\n"
          ]
        }
      ]
    },
    {
      "cell_type": "markdown",
      "source": [
        "****Checking if this tokenizer is fast or not.****"
      ],
      "metadata": {
        "id": "A_CXuB52ucoU"
      }
    },
    {
      "cell_type": "code",
      "source": [
        "tokenizer.is_fast"
      ],
      "metadata": {
        "colab": {
          "base_uri": "https://localhost:8080/"
        },
        "id": "zabfvL9tuZFN",
        "outputId": "082daeb1-8c53-4931-fc91-5cd118bd332f"
      },
      "execution_count": 24,
      "outputs": [
        {
          "output_type": "execute_result",
          "data": {
            "text/plain": [
              "True"
            ]
          },
          "metadata": {},
          "execution_count": 24
        }
      ]
    },
    {
      "cell_type": "markdown",
      "source": [
        "Then we feed the training corpus (either the list of list or the iterator we defined earlier) to the train_new_from_iterator method. We also have to specify the vocabulary size we want to use:"
      ],
      "metadata": {
        "id": "s-LaWfz_vLr0"
      }
    },
    {
      "cell_type": "code",
      "source": [
        "new_tokenizer = tokenizer.train_new_from_iterator(batch_iterator(), vocab_size=25000)"
      ],
      "metadata": {
        "id": "L5er19-ovA0s"
      },
      "execution_count": 25,
      "outputs": []
    },
    {
      "cell_type": "markdown",
      "source": [
        "Testing new tokenizer"
      ],
      "metadata": {
        "id": "TURJJDLdveD-"
      }
    },
    {
      "cell_type": "code",
      "source": [
        "new_tokenizer(dataset[:30][\"instruction\"])"
      ],
      "metadata": {
        "id": "xVx8kCfVvTbD",
        "colab": {
          "base_uri": "https://localhost:8080/"
        },
        "outputId": "1bc780dc-52b7-413e-b231-55cd1d3e4d77"
      },
      "execution_count": 26,
      "outputs": [
        {
          "output_type": "execute_result",
          "data": {
            "text/plain": [
              "{'input_ids': [[952, 368, 551, 260, 5077, 963, 658, 788, 16, 848, 618, 2296, 5297, 16, 1554, 304, 279, 1183, 28, 201, 201, 2903, 1338, 266, 611, 2335, 452, 201, 701, 28, 413, 23645, 28, 201, 15, 6392, 28, 6336, 14, 716, 409, 320, 757, 328, 33, 201, 15, 3501, 28, 320, 726, 1779, 333, 260, 748, 2574, 295, 6626, 16, 201, 718, 28], [35, 899, 304, 551, 288, 6630, 16, 2843, 356, 464, 266, 6630, 888, 291, 266, 9721, 888, 16, 363, 1794, 1211, 427, 3842, 352, 883, 882, 291, 266, 1697, 576, 16, 201, 201, 7931, 530, 234, 1632, 2304, 3165, 13450, 1632, 12713, 7061, 4604, 1880, 3165, 4604, 11105, 1552, 1632, 15832, 4922, 12309, 3254, 1733, 15357, 103, 20996, 20996, 14431, 3254, 1552, 11106, 8036, 10202, 1552, 1632, 1733, 1051, 232, 530, 234, 1632, 2304, 3165, 13450, 1632, 19186, 7061, 1632, 9328, 2304, 4395, 1733, 1632, 5884, 1880, 1632, 3984, 1733, 7061, 9084, 1733, 13846, 3165, 13450, 10202, 11329, 1880, 7283, 15729], [495, 412, 572, 14, 328, 368, 551, 260, 762, 295, 1109, 16, 363, 572, 304, 291, 911, 266, 756, 336, 566, 266, 950, 14177, 288, 266, 762, 16, 874, 724, 304, 260, 13060, 14, 857, 619, 295, 266, 12822, 1109, 288, 10619, 1233, 14, 4375, 422, 16059, 16, 201, 491, 848, 641, 324, 260, 1729, 4004, 266, 756, 355, 266, 950, 14177, 352, 260, 7028, 15, 12598, 1729, 295, 12822, 1109, 375, 262, 10619, 1233, 779, 201, 201, 1828, 8486, 7699, 14, 50, 292, 337, 6453, 14, 13136, 14, 36, 23629, 14, 47, 22262, 20547, 16], [24895, 44, 8520, 10385, 3, 2490, 6398, 4973, 4854, 518, 11407, 1203, 350, 471, 1860, 14, 312, 554, 440, 2431, 2384, 294, 16, 3390, 15430, 24191, 434, 12359, 558, 518, 11407, 471, 12907, 290, 829, 23577, 451, 19822, 442, 7359, 14, 312, 259, 2642, 440, 12359, 2280, 9738, 10897, 468, 13373, 440, 406, 292, 558, 1203, 11407, 829, 2912, 6660, 12857, 3112, 375, 79, 2866, 468, 13373, 14, 468, 13373, 14, 17334, 67, 14, 8764, 17334, 67, 779, 2045, 14539, 829, 554, 5931, 67, 1156, 863, 1626, 2714, 313, 10190, 260, 9365, 348, 575, 3885, 1004, 79, 2134, 14, 11075, 74, 18759, 829, 24191, 1156, 22343, 3], [4788, 28, 1749, 295, 266, 611, 1288, 304, 5632, 16, 2506, 573, 304, 356, 33, 201, 711, 28, 201, 15, 945, 327, 28, 364, 11992, 8353, 887, 2593, 5475, 4, 201, 15, 945, 390, 28, 364, 21068, 12318, 887, 2593, 5475, 4, 201, 201, 3052, 28, 1374, 368, 936, 4049, 336, 409, 1445, 291, 5475, 17920, 12318, 16, 201, 491, 481, 304, 945, 390, 16, 201, 2979, 288, 1128, 28, 201, 9134, 614, 576, 304, 427, 4641, 16, 201, 711, 28, 201, 15, 945, 327, 28, 364, 1775, 2544, 291, 266, 4675, 5254, 291, 11424, 7134, 531, 201, 15, 945, 390, 28, 364, 1775, 2544, 291, 266, 3759, 291, 11424, 7134, 531, 201, 201, 10203, 2319, 28, 201, 16134, 543, 5254, 304, 260, 1129, 291, 1852, 7999, 13626, 16, 201, 491, 481, 304, 945, 327, 16, 201, 61, 12735, 63, 2861, 266, 2014, 1288, 14, 614, 573, 854, 1025, 1441, 12, 821, 1522, 33, 201, 711, 28, 201, 15, 945, 327, 28, 364, 2524, 409, 1332, 4656, 460, 1111, 4, 201, 15, 945, 390, 28, 364, 2524, 409, 1332, 4656, 460, 2367, 4, 201, 201, 61, 3052, 63, 18543, 291, 266, 5738, 10035, 4656, 2200, 324, 3370, 1555, 266, 1111, 16, 201, 491, 481, 304, 945, 327, 16, 201, 4788, 28, 6872, 614, 576, 304, 427, 4641, 16, 201, 711, 28, 201, 15, 945, 327, 28, 364, 3812, 2544, 291, 266, 4694, 291, 2761, 260, 748, 1797, 531, 201, 15, 945, 390, 28, 364, 3812, 2544, 291, 266, 324, 399, 73, 291, 2761, 260, 748, 1797, 531, 201, 201, 3052, 28, 12721, 304, 427, 260, 1129, 1012, 328, 2761, 260, 748, 1797, 16, 201, 491, 481, 304, 945, 390, 16, 201, 2979, 288, 1128, 28, 201, 3345, 295, 266, 611, 658, 1288, 854, 427, 821, 1522, 33, 201, 711, 28, 201, 15, 945, 327, 28, 364, 38, 10625, 13550, 409, 324, 880, 291, 15479, 1817, 531, 201, 15, 945, 390, 28, 364, 38, 10625, 13550, 409, 324, 880, 291, 15479, 1817, 2009, 306, 85, 531, 201, 201, 10203, 2319, 28, 201, 2778, 409, 15479, 1935, 336, 1669, 1817, 644, 427, 1817, 4459, 16, 201, 491, 481, 304, 945, 327, 16, 201, 4788, 28, 2506, 295, 266, 611, 1288, 304, 5632, 33, 201, 711, 28, 201, 15, 945, 327, 28, 364, 3812, 1122, 17799, 5661, 1168, 691, 9957, 1156, 1076, 531, 201, 15, 945, 390, 28, 364, 3812, 5376, 768, 1122, 89, 5661, 1168, 691, 9957, 1156, 1076, 531, 201, 201, 3052, 28], [778, 28, 364, 48, 91, 306, 7443, 299, 67, 851, 551, 260, 762, 295, 3396, 28, 1517, 14, 4436, 4443, 14, 3457, 14, 5127, 14, 2561, 4925, 14, 1146, 295, 3614, 14, 2018, 14, 1702, 1129, 14, 3560, 14, 2872, 14, 2822, 14, 2514, 14, 1689, 352, 1727, 750, 14, 696, 3214, 854, 266, 2261, 3425, 291, 33, 201, 761, 28, 18573, 201, 201, 778, 28, 364, 2820, 362, 20800, 262, 10664, 851, 551, 260, 762, 295, 3396, 28, 1517, 14, 4436, 4443, 14, 3457, 14, 5127, 14, 2561, 4925, 14, 1146, 295, 3614, 14, 2018, 14, 1702, 1129, 14, 3560, 14, 2872, 14, 2822, 14, 2514, 14, 1689, 352, 1727, 750, 14, 696, 3214, 854, 266, 2261, 3425, 291, 33, 201, 761, 28, 18731, 3290, 201, 201, 778, 28, 364, 4096, 53, 6857, 549, 375, 3757, 15, 2102, 23, 23760, 551, 260, 762, 295, 3396, 28, 1517, 14, 4436, 4443, 14, 3457, 14, 5127, 14, 2561, 4925, 14, 1146, 295, 3614, 14, 2018, 14, 1702, 1129, 14, 3560, 14, 2872, 14, 2822, 14, 2514, 14, 1689, 352, 1727, 750, 14, 696, 3214, 854, 266, 2261, 3425, 291, 33, 201, 761, 28], [8158, 1118, 15968, 10608, 408, 1258, 388, 853, 267, 1421, 291, 7966, 3286, 295, 4073, 33, 915, 16293, 1118, 388, 483, 460, 593, 17449, 33, 201, 201, 761, 28], [3675, 1975, 412, 899, 641, 324, 1228, 422, 4563, 16, 201, 201, 3496, 28, 320, 1258, 336, 4563, 641, 1228, 412, 899, 16, 674, 304, 1343, 3405, 296, 5106, 333, 4563, 16], [43, 726, 5681, 14, 458, 328, 739, 696, 20700, 361, 780, 2488, 12178, 368, 33], [1261, 304, 266, 3894, 295, 1792, 15, 6433, 8599, 33], [1294, 328, 744, 440, 584, 266, 4629, 2377, 2389, 291, 2055, 15, 17478, 15522, 629, 741, 10521, 4143, 33], [2185, 28, 1395, 1286, 266, 8311, 295, 511, 3811, 2078, 14, 296, 943, 883, 720, 653, 4386, 291, 356, 16, 201, 201, 701, 28, 11442, 28, 320, 1135, 260, 303, 3701, 76, 578, 296, 320, 1135, 9576, 16, 320, 3046, 619, 2367, 296, 320, 750, 619, 1111, 16], [2185, 28, 2695, 260, 2562, 7820, 291, 1466, 266, 18888, 963, 2629, 296, 3815, 1912, 16, 201, 201, 701, 28, 4465, 28, 810, 201, 18499, 28, 2157, 14, 1647, 14, 4441, 14, 2358, 810, 201, 22785, 16352, 28, 4796, 1629, 14, 390, 17606, 438, 14, 7927, 438, 14, 15386, 285], [37, 5, 291, 1365, 260, 899, 1852, 296, 4028, 4485, 356, 288, 260, 7055, 1527, 13834, 356, 24383, 18470], [495, 412, 572, 328, 368, 551, 658, 1288, 296, 260, 756, 16, 1091, 572, 304, 291, 1872, 1306, 266, 776, 576, 566, 260, 3656, 14, 3011, 352, 2596, 1912, 295, 6510, 836, 266, 1354, 355, 2066, 291, 266, 756, 16, 201, 491, 848, 641, 324, 573, 295, 1199, 3603, 443, 18699, 360, 609, 443, 14205, 9, 352, 443, 7298, 285, 1216, 201, 2203, 350, 28, 320, 1386, 768, 1806, 696, 388, 3342, 16, 201, 2203, 395, 28, 1404, 445, 621, 15146, 336, 809, 2946, 15759, 16, 201, 6851, 28, 15146, 16], [495, 412, 572, 14, 328, 661, 291, 1124, 266, 858, 295, 1109, 288, 260, 576, 336, 1260, 355, 266, 551, 3079, 16, 2177, 355, 1507, 296, 427, 1109, 16, 201, 701, 28, 945, 28, 443, 67, 1455, 1531, 295, 1808, 7543, 291, 3382, 266, 5855, 1881, 1216, 1039, 936, 1109, 1260, 355, 266, 3079, 443, 71, 9, 288, 266, 576, 16, 201, 718, 28], [10835, 2279, 2510, 28, 201, 201, 61, 19, 63, 364, 3292, 573, 295, 266, 1398, 15, 18729, 4713, 438, 12972, 335, 266, 1627, 14, 356, 438, 2715, 336, 3964, 6613, 618, 16028, 2174, 12972, 16, 7242, 295, 619, 14, 642, 368, 1376, 288, 266, 8131, 3, 477, 362, 24947, 2600, 4164, 12121, 22995, 1447, 14, 1110, 6600, 14, 296, 1234, 3790, 16, 3337, 16028, 2174, 16541, 304, 13271, 355, 12972, 327, 14, 390, 15, 1638, 14, 390, 24, 14, 346, 14, 413, 14, 296, 435, 14, 614, 368, 619, 4599, 333, 4635, 14391, 201, 5999, 28, 4349, 2097, 457, 18158, 5223, 16, 4162, 17, 78, 1889, 17, 88, 7201, 1232, 17, 201, 201, 61, 20, 63, 364, 35, 2505, 1052, 460, 266, 1311, 16541, 12563, 28, 7242, 3596, 28, 21219, 22290, 16, 7242, 1978, 28, 3494, 5950, 24873, 16, 7242, 14646, 28, 433, 277, 659, 16, 7242, 333, 2819, 438, 1694, 28, 407, 5664, 16, 7242, 3929, 28, 8118, 8290, 4087, 16, 7242, 333, 2236, 14391, 201, 5999, 28, 4349, 2097, 3919, 16, 2080, 571, 2797, 310, 7798, 16, 1038, 17, 448, 3535, 17, 14298, 15, 88, 23343, 15, 2044, 1340, 201, 201, 61, 21, 63, 364, 56, 23343, 390, 11690, 16, 1144, 368, 266, 1269, 438, 3543, 1442, 5152, 295, 1467, 15, 8519, 390, 12972, 14, 4599, 333, 9893, 1750, 3783, 296, 260, 4635, 8608, 1160, 16, 5809, 7619, 13781, 3057, 12972, 390, 19, 375, 430, 3504, 509, 873, 390, 20, 375, 702, 81, 1380, 640, 262, 873, 390, 21, 375, 7975, 399, 262, 17, 5889, 318, 262, 326, 504, 873, 390, 23, 375, 6473, 20529, 10238, 318, 969, 349, 296, 10238, 969, 361, 873, 390, 24, 375, 3538, 84, 3112, 90, 509, 873, 390, 25, 375, 9790, 318, 262, 873, 390, 27, 375, 72, 6317, 6878, 14391, 201, 5999, 28, 4349, 2097, 3919, 16, 1274, 262, 905, 358, 78, 3152, 16, 1038, 17, 408, 17, 268, 17, 282, 479, 2026, 17, 88, 7201, 1232, 15, 811, 357, 4223, 201, 14099, 1814, 28, 6760, 16, 529, 16, 746, 16, 201, 201, 8120, 28, 7509, 266, 1579, 1394, 2279, 2510, 14, 1680, 260, 7619, 7246, 291, 266, 551, 3403, 16, 4548, 2112, 291, 20914, 2510, 902, 7397, 6644, 7370, 5999, 6884, 11645, 997, 266, 4283, 16, 874, 266, 1579, 2279, 2510, 3391, 291, 2225, 8780, 355, 266, 1077, 1094, 14, 1680, 4704, 2415, 333, 772, 2269, 16, 201, 7436, 28, 2649, 328, 2263, 1094, 653, 9373, 18393, 295, 1890, 1978, 12972, 288, 8131, 4454, 413, 53, 47, 14, 7168, 263, 1406, 14, 390, 2898, 40, 14, 477, 263, 2884, 14, 18174, 7205, 20681, 33, 201, 10321, 331, 288, 223, 9312, 253, 21674, 258, 171, 247, 115, 201, 201, 3264, 1680, 288, 1056, 888, 16], [2131, 304, 279, 1927, 336, 1823, 260, 572, 14, 2124, 355, 279, 994, 336, 1520, 1604, 1246, 16, 1521, 260, 1238, 336, 1625, 1608, 266, 1057, 16, 201, 201, 866, 1612, 28, 201, 491, 994, 304, 260, 3013, 963, 279, 12040, 1160, 296, 260, 1563, 1779, 333, 4686, 333, 3392, 85, 14, 6363, 296, 4495, 16515, 288, 14363, 16, 519, 266, 5077, 14, 266, 1563, 887, 1266, 720, 8845, 333, 266, 1487, 295, 1129, 642, 956, 771, 369, 2491, 1978, 14, 13806, 14, 3009, 16, 15882, 14, 266, 1563, 887, 1489, 2808, 295, 266, 1129, 8413, 422, 266, 1160, 771, 369, 2994, 858, 14, 2779, 14, 3009, 16, 1634, 771, 260, 5077, 14, 848, 260, 2860, 295, 266, 5077, 17199, 266, 8845, 1579, 296, 2808, 5259, 292, 422, 266, 1563, 288, 412, 5077, 16, 363, 2860, 641, 14288, 324, 288, 1354, 859, 1425, 295, 2821, 16, 363, 2860, 641, 427, 1162, 617, 882, 336, 445, 427, 1654, 288, 266, 3013, 16, 201, 201, 866, 1777, 28, 201, 7088, 28, 443, 8450, 328, 333, 8410, 266, 14363, 4994, 1160, 16, 1091, 1226, 555, 324, 6164, 333, 2614, 6621, 16, 823, 887, 1489, 333, 882, 584, 260, 1129, 291, 2851, 14, 771, 369, 260, 3186, 14, 260, 3392, 14, 352, 260, 12259, 16, 1039, 887, 320, 757, 328, 10267, 201, 6464, 28, 443, 329, 1779, 333, 260, 2552, 13644, 3186, 9, 201, 7088, 28, 443, 54, 67, 16899, 2088, 304, 279, 15138, 3186, 14, 356, 8567, 13644, 1467, 296, 356, 2542, 768, 5767, 617, 13802, 6703, 5134, 201, 6464, 28, 443, 5161, 304, 266, 2779, 9, 201, 7088, 28, 443, 54, 67, 16899, 2088, 304, 3322, 335, 919, 15, 2102, 9247, 6204, 5134, 201, 6464, 28, 443, 4699, 858, 9, 201, 7088, 28, 443, 491, 2994, 858, 295, 20208, 16899, 2088, 304, 912, 1638, 2118, 5723, 2545, 4663, 5134, 201, 6464, 28, 443, 9210, 6281, 9, 201, 7088, 28, 443, 54, 67, 16899, 2088, 304, 288, 266, 2111, 355, 266, 1962, 6281, 17825, 20, 529, 50, 40, 5134, 201, 6464, 28, 443, 430, 1179, 328, 1110, 422, 71, 9, 201, 201, 866, 1617, 28], [1448, 28, 519, 412, 572, 14, 328, 368, 551, 7152, 923, 14, 76, 14, 296, 327, 14, 1012, 923, 296, 496, 368, 3089, 296, 327, 304, 260, 762, 16, 823, 661, 291, 857, 266, 1336, 295, 619, 266, 8199, 2433, 288, 266, 762, 327, 963, 266, 8121, 923, 296, 496, 375, 7162, 8121, 923, 296, 496, 779, 4824, 912, 592, 554, 8199, 2121, 304, 1654, 288, 266, 762, 963, 266, 551, 17052, 16, 923, 296, 496, 555, 324, 2011, 15, 8518, 14, 296, 555, 1850, 483, 260, 1447, 1826, 836, 266, 2457, 295, 327, 16, 923, 555, 1850, 324, 1826, 836, 496, 16, 201, 201, 20, 14, 937, 14, 3077, 50, 609, 443, 42, 609, 443, 24, 2672, 23, 609, 443, 26, 4080, 23, 609, 443, 68, 609, 443, 52, 609, 443, 8027, 10764, 2716, 201, 201, 761, 28], [952, 368, 1579, 355, 279, 6818, 580, 16, 1091, 572, 304, 291, 8879, 266, 2319, 902, 266, 551, 6818, 3977, 16, 363, 979, 6818, 8127, 3058, 291, 481, 266, 1578, 368, 19304, 16101, 873, 12166, 9837, 19462, 873, 296, 443, 12, 9, 375, 21131, 779, 363, 481, 641, 324, 1227, 291, 573, 7141, 1129, 16, 201, 201, 2103, 1323, 1821, 555, 1981, 483, 592, 388, 7785, 619, 295, 593, 766, 1341, 5216, 14, 15683, 766, 22, 295, 593, 766, 1064, 5216, 14, 296, 10259, 766, 23, 288, 1909, 33], [495, 412, 572, 14, 328, 555, 324, 5026, 355, 260, 580, 14, 296, 328, 483, 291, 1680, 266, 677, 15, 1496, 15, 9717, 5073, 333, 772, 756, 288, 266, 580, 16, 1933, 304, 266, 12185, 4321, 571, 762, 295, 677, 15, 1496, 15, 9717, 8309, 880, 288, 412, 572, 28, 17826, 28, 3031, 16613, 10464, 14, 6399, 28, 20821, 858, 14, 13841, 28, 5503, 14054, 14, 6320, 28, 1537, 384, 1544, 724, 14, 431, 57, 28, 15201, 756, 14, 3160, 28, 22969, 352, 23928, 10464, 14, 20010, 28, 12385, 14, 20010, 52, 28, 12385, 14, 12403, 14, 532, 11628, 28, 12385, 14, 17099, 14, 477, 53, 28, 5156, 3625, 17279, 14, 16897, 28, 6422, 285, 14, 8651, 28, 10902, 14, 9201, 352, 4224, 14, 8651, 53, 28, 10902, 14, 10338, 14, 21106, 28, 8521, 3713, 14, 9201, 14, 8651, 7511, 28, 8521, 3713, 14, 10338, 14, 370, 10369, 28, 19553, 316, 14054, 14, 7434, 28, 14871, 5928, 14, 22476, 28, 10794, 4905, 14, 22476, 12667, 14871, 4905, 14, 16600, 28, 12572, 14, 16600, 52, 28, 12572, 14, 12403, 14, 433, 10080, 28, 12572, 14, 17099, 14, 19365, 28, 1407, 1202, 14, 325, 20171, 28, 23731, 14, 8180, 28, 291, 14, 591, 42, 28, 5371, 6647, 14, 8835, 28, 7035, 14, 2847, 849, 14, 24426, 28, 7035, 14, 2669, 7512, 14, 8835, 41, 28, 7035, 14, 17033, 1571, 352, 1654, 16940, 14, 8835, 48, 28, 7035, 14, 2669, 16940, 14, 8835, 50, 28, 7035, 14, 2011, 15, 21, 6332, 859, 9201, 1654, 14, 8835, 60, 28, 7035, 14, 529, 6332, 859, 9201, 1654, 14, 383, 10369, 28, 1191, 15, 8281, 14054, 14, 15010, 28, 1191, 15, 16144, 14, 15010, 12667, 14871, 372, 15, 16144, 14, 383, 9135, 28, 1191, 15, 341, 5519, 201, 769, 201, 778, 28, 2861, 266, 658, 9978, 336, 1650, 6374, 404, 327, 8433, 288, 266, 5819, 430, 2683, 822, 801, 445, 266, 10296, 7702, 2521, 201, 201, 761, 28, 3160, 13841, 6399, 8651, 53, 3160, 24426, 21106, 21106, 8651, 53, 3160, 13841, 6399, 8651, 822, 383, 9135, 24426, 13841, 532, 11628, 8835, 48, 834, 581, 201, 778, 28, 3493, 304, 266, 3803, 442, 833, 295, 266, 5696, 11236, 422, 10697, 4206, 44, 1902, 316, 2521, 201, 201, 761, 28, 383, 9135, 8835, 60, 13841, 8651, 8651, 3160, 13841, 8651, 8835, 48, 3160, 21106, 21106, 834, 581, 201, 778, 28, 915, 304, 266, 2457, 295, 266, 2834, 8848, 291, 266, 14535, 1129, 336, 445, 7574, 335, 266, 3769, 23303, 295, 17513, 297, 2006, 2137, 288, 17264, 2521, 201, 201, 761, 28], [1448, 28, 5156, 1199, 8668, 295, 9651, 1750, 16], [1448, 28, 1521, 279, 10883, 333, 412, 1757, 336, 3057, 266, 611, 28, 260, 11, 260, 24041, 2261, 281, 11, 266, 2920, 295, 266, 1757, 271, 11, 279, 3405, 1218, 584, 4071, 201, 201, 4579, 28, 1039, 291, 1521, 260, 3818, 10890, 333, 1091, 4477, 201, 16135, 28, 817, 1757, 555, 4986, 328, 716, 291, 1680, 279, 10883, 333, 511, 1757, 16], [495, 412, 572, 14, 551, 260, 576, 288, 266, 1056, 888, 14, 511, 572, 304, 291, 3025, 356, 698, 266, 13944, 888, 16, 201, 201, 701, 28, 201, 2965, 368, 10442, 615, 12206, 335, 266, 2396, 318, 14, 644, 7514, 295, 751, 368, 3239, 291, 2479, 16, 201, 718, 28, 201, 2841, 2402, 11322, 11980, 3541, 2070, 2215, 2400, 4234, 14625, 4808, 15731, 4378, 10799, 2070, 1917, 2402, 2512, 2900, 5028, 4085, 3284, 4234, 2215, 9224, 10972, 4378, 1776, 13612, 1776, 2841, 2402, 21281, 4691, 4535, 11404, 5028, 11026, 2328, 2215, 2400, 4234, 8394, 3221, 1739, 245, 2671, 1776, 17087, 4038, 7166, 3654, 111, 201, 201, 701, 28, 201, 1313, 343, 9385, 292, 333, 1604, 16680, 29, 1188, 7494, 464, 1188, 2195, 304, 17942, 14, 296, 555, 324, 4001, 292, 16, 201, 718, 28, 201, 2900, 2400, 2070, 2841, 2402, 8394, 4085, 2400, 2841, 20382, 105, 10864, 4238, 2841, 8390, 21804, 1776, 9515, 13971, 2215, 1917, 9016, 15979, 29, 21841, 11322, 11980, 4085, 2841, 2400, 14843, 21841, 4490, 6274, 2512, 8116, 15211, 14852, 14360, 2841, 2402, 8394, 4378, 3284, 3373, 4378, 1776, 23609, 1437, 10313, 2328, 4085, 2400, 2841, 20382, 105, 10864, 4238, 4490, 10799, 2070, 19638, 3373, 201, 201, 701, 28, 201, 15978, 331, 6107, 422, 6676, 410, 389, 3766, 20146, 9087, 375, 38, 15, 8401, 353, 19938, 266, 3305, 1910, 295, 519, 24200, 91, 853, 16623, 852, 15, 85, 5985, 818, 460, 266, 723, 295, 11588, 14, 1518, 573, 13045, 3997, 295, 266, 5744, 15536, 6861, 14, 6951, 1599, 537, 14, 689, 445, 266, 979, 13045, 11588, 288, 2751, 295, 266, 8187, 16, 201, 718, 28], [9202, 260, 333, 4828, 336, 10174, 514, 619, 5023, 1507, 963, 5647, 296, 5752], [1294, 328, 744, 440, 696, 20272, 579, 846, 11632, 818, 368, 33], [778, 28, 320, 4845, 2227, 260, 5335, 295, 9822, 20745, 637, 11190, 3861, 663, 333, 266, 20435, 20, 5439, 320, 3824, 356, 460, 720, 1203, 75, 2334, 266, 327, 3374, 296, 320, 496, 6711, 853, 291, 1819, 356, 834, 674, 445, 979, 3552, 812, 3155, 822, 356, 445, 279, 1006, 380, 323, 1819, 834, 201, 761, 28, 2177, 28, 5302, 295, 266, 1721, 5154, 834, 201, 201, 778, 28, 320, 443, 286, 427, 2112, 716, 328, 4110, 511, 6495, 1111, 7596, 644, 704, 6014, 296, 320, 4110, 1130, 723, 2557, 1107, 336, 452, 1966, 3445, 5439, 320, 887, 427, 483, 4412, 356, 1297, 644, 420, 483, 1130, 1478, 681, 333, 5600, 296, 911, 13185, 288, 266, 364, 696, 2943, 1118, 420, 4178, 336, 333, 364, 6601, 834, 2264, 6014, 304, 279, 18183, 12216, 2471, 5104, 295, 1935, 336, 388, 1923, 661, 720, 1111, 333, 1666, 834, 201, 761, 28, 2177, 28, 6756, 618, 6014, 566, 260, 2480, 295, 7923, 834, 201, 201, 778, 28, 320, 17678, 593, 1577, 822, 364, 6003, 328, 924, 281, 475, 452, 335, 412, 723, 822, 2706, 291, 328, 2637, 834, 364, 1646, 355, 336, 388, 1801, 266, 1728, 834, 20967, 4092, 395, 28, 3235, 1584, 1111, 460, 266, 1978, 445, 10042, 4021, 1300, 1090, 834, 2303, 320, 1118, 483, 279, 3405, 4126, 355, 573, 859, 834, 201, 761, 28, 2177, 28, 363, 550, 445, 5753, 266, 1728, 296, 3256, 291, 1765, 1110, 422, 71, 834, 201, 201, 778, 28, 320, 445, 260, 8608, 275, 17972, 834, 674, 445, 8255, 822, 1343, 8255, 296, 320, 445, 8581, 336, 801, 757, 2978, 356, 708, 324, 2035, 291, 3046, 834, 674, 445, 288, 9101, 295, 2023, 644, 356, 787, 445, 2715, 336, 356, 3256, 291, 2586, 834, 363, 1994, 443, 85, 13033, 853, 7003, 291, 266, 11478, 4458, 5254, 291, 828, 1467, 296, 388, 2035, 1279, 514, 333, 356, 834, 201, 761, 28], [5, 223, 1950, 201, 35, 2174, 318, 22459, 2637, 285, 267, 19568, 4672, 375, 18801, 873, 787, 1715, 369, 5143, 10058, 588, 3488, 375, 47, 48, 38, 873, 296, 7010, 3195, 2401, 345, 438, 3488, 14, 304, 260, 1613, 3488, 614, 3883, 266, 2508, 295, 14096, 15204, 19231, 626, 9479, 16, 2503, 787, 731, 266, 1327, 5143, 24435, 3488, 333, 260, 1531, 295, 3447, 295, 614, 16032, 53, 304, 266, 950, 1493, 16, 16032, 53, 304, 9370, 422, 19981, 9479, 14, 7195, 604, 3616, 282, 14, 296, 8243, 465, 85, 7303, 9684, 2486, 291, 9479, 21564, 288, 2735, 16, 817, 2510, 288, 8700, 7859, 14, 1953, 457, 8209, 14, 296, 6426, 10312, 16, 201, 201, 761, 412, 580, 28, 696, 304, 266, 1890, 849, 295, 8681, 3488, 33, 201, 5, 18253, 201, 3281, 481, 266, 1721, 580, 14, 266, 2104, 576, 304, 28, 18532, 318, 22459, 2637, 285, 267, 19568, 4672, 375, 18801, 873, 787, 1715, 369, 5143, 10058, 588, 3488, 375, 47, 48, 38, 873, 296, 7010, 3195, 2401, 345, 438, 3488, 14, 304, 260, 1613, 3488, 614, 3883, 266, 2508, 295, 14096, 15204, 19231, 626, 9479, 16, 201, 40, 18595, 18253, 28, 18532, 318, 22459, 2637, 285, 267, 19568, 4672, 581, 201, 5, 223, 1950, 201, 16000, 6198, 375, 1574, 68, 2830, 11, 325, 2811, 266, 2670, 375, 310, 3469, 1342, 369, 13705, 14884, 325, 2811, 266, 2670, 11, 304, 279, 2168, 1277, 15, 675, 1353, 3725, 446, 297, 15, 1620, 2080, 10364, 9853, 15, 4945, 2787, 4510, 2403, 336, 445, 3333, 296, 8731, 4746, 422, 385, 9316, 293, 431, 1385, 1538, 294, 1746, 315, 3380, 2303, 2600, 333, 10524, 16383, 16, 363, 2403, 1817, 85, 335, 10524, 369, 260, 8061, 2367, 7860, 1555, 266, 4674, 1513, 1310, 4510, 2683, 14, 296, 445, 2601, 78, 277, 335, 3085, 1928, 14, 4674, 16, 363, 2403, 14655, 335, 5141, 529, 14, 4674, 16, 363, 1466, 304, 870, 288, 9757, 14, 9617, 16, 201, 201, 3303, 335, 412, 1469, 14, 1012, 854, 933, 6198, 5813, 15683, 266, 1269, 1292, 1129, 33, 201, 5, 18253, 201, 3281, 481, 412, 580, 14, 420, 641, 739, 336, 28, 363, 1466, 304, 870, 288, 9757, 14, 9617, 16, 201, 40, 18595, 18253, 28, 9757, 822, 9617, 581, 201, 5, 223, 1950, 201, 5597, 28, 364, 20897, 18773, 14, 5405, 18773, 14, 9470, 6619, 4, 304, 260, 2419, 1056, 303, 1058, 4105, 16, 363, 8311, 368, 464, 279, 3108, 703, 430, 15, 19432, 1056, 5320, 422, 6377, 9757, 14, 364, 491, 6619, 1180, 363, 5320, 14, 614, 304, 288, 5206, 86, 849, 14, 445, 776, 5524, 288, 6953, 24, 288, 13003, 1948, 270, 333, 266, 455, 1984, 850, 14, 260, 4751, 295, 893, 1846, 422, 9757, 296, 691, 5530, 10254, 16, 674, 304, 13062, 291, 266, 18514, 295, 266, 1769, 19471, 16584, 3, 8647, 12359, 2154, 15, 4008, 14, 286, 17196, 14, 614, 445, 5524, 288, 2020, 9788, 296, 2637, 12379, 422, 2025, 5657, 351, 1518, 22097, 448, 355, 5405, 13167, 12376, 634, 335, 364, 35, 74, 8647, 12359, 2154, 15, 4008, 14, 385, 17196, 1180, 363, 1056, 8311, 483, 2202, 339, 8083, 294, 14, 6963, 979, 266, 776, 304, 5205, 1715, 16, 674, 566, 260, 433, 2326, 431, 7393, 12298, 1649, 1147, 858, 295, 937, 6631, 24, 16, 817, 2078, 304, 2584, 5768, 288, 266, 1668, 295, 346, 2646, 16, 201, 201, 778, 28, 3726, 335, 412, 1469, 14, 689, 5019, 266, 14118, 850, 20231, 604, 18773, 604, 18773, 2270, 3690, 33, 201, 5, 18253], [495, 412, 572, 14, 328, 368, 2659, 291, 1908, 899, 464, 260, 551, 3621, 16, 201, 5403, 848, 641, 324, 460, 2398, 2202, 1109, 1150, 296, 641, 1519, 266, 551, 3621, 16, 201, 491, 4516, 445, 7770, 2798, 16, 320, 1135, 11240, 320, 12647, 3208, 619, 1111, 16, 201, 201, 2703, 28], [60, 763, 277, 737, 14, 2218, 4098, 1686, 11308, 20042, 562, 1274, 2323, 72, 7967, 19755, 1151, 6136, 964, 74, 475, 5164, 8030, 16323, 13913, 621, 849, 380, 9234, 14, 8112, 8923, 933, 509, 518, 80, 2541, 86, 7515, 12245, 19721, 10088, 7146, 2218, 413, 3268, 19518, 2401, 1643, 4278, 8064, 6136, 21407, 5100, 8614, 15582, 268, 16, 201, 201, 3345, 888, 304, 412, 33, 201, 201, 7369, 28, 2964, 581, 201, 11298, 73, 2069, 969, 4278, 2565, 1988, 8177, 3798, 268, 2321, 18195, 7930, 5221, 288, 754, 8685, 74, 9147, 782, 413, 1255, 67, 4871, 991, 21424, 345, 4434, 1619, 2566, 969, 14, 8112, 991, 307, 1213, 2321, 21424, 345, 15000, 1719, 404, 293, 595, 785, 863, 84, 1069, 4278, 477, 976, 392, 263, 4871, 14, 2218, 747, 329, 1525, 2321, 5679, 288, 2321, 383, 3601, 4434, 339, 10491, 2850, 16, 201, 201, 3345, 888, 304, 412, 33, 201, 201, 7369, 28, 2964, 581, 201, 54, 437, 14, 346, 1092, 386, 455, 1796, 1406, 7490, 804, 375, 1997, 37, 11, 782, 2321, 2378, 2657, 455, 11644, 9276, 67, 20967, 960, 285, 347, 1512, 3193, 21977, 4008, 410, 14, 370, 11003, 346, 1092, 6726, 782, 370, 11003, 455, 527, 1271, 14, 2218, 3629, 1074, 20654, 86, 16483, 21440, 68, 684, 14184, 1036, 398, 89, 24990, 15, 47, 6134, 16, 201, 201, 3345, 888, 304, 412, 33, 201, 201, 7369, 28, 2964, 581, 201, 22519, 300, 12793, 14, 991, 12680, 1224, 10127, 2885, 7464, 14, 275, 1496, 4774, 11682, 14583, 13815, 545, 1417, 92, 3443, 284, 1179, 268, 11460, 16, 201, 201, 3345, 888, 304, 412, 33, 201, 201, 7369, 28]], 'attention_mask': [[1, 1, 1, 1, 1, 1, 1, 1, 1, 1, 1, 1, 1, 1, 1, 1, 1, 1, 1, 1, 1, 1, 1, 1, 1, 1, 1, 1, 1, 1, 1, 1, 1, 1, 1, 1, 1, 1, 1, 1, 1, 1, 1, 1, 1, 1, 1, 1, 1, 1, 1, 1, 1, 1, 1, 1, 1, 1, 1, 1, 1, 1], [1, 1, 1, 1, 1, 1, 1, 1, 1, 1, 1, 1, 1, 1, 1, 1, 1, 1, 1, 1, 1, 1, 1, 1, 1, 1, 1, 1, 1, 1, 1, 1, 1, 1, 1, 1, 1, 1, 1, 1, 1, 1, 1, 1, 1, 1, 1, 1, 1, 1, 1, 1, 1, 1, 1, 1, 1, 1, 1, 1, 1, 1, 1, 1, 1, 1, 1, 1, 1, 1, 1, 1, 1, 1, 1, 1, 1, 1, 1, 1, 1, 1, 1, 1, 1, 1, 1, 1, 1, 1, 1, 1, 1, 1, 1, 1, 1, 1, 1, 1, 1], [1, 1, 1, 1, 1, 1, 1, 1, 1, 1, 1, 1, 1, 1, 1, 1, 1, 1, 1, 1, 1, 1, 1, 1, 1, 1, 1, 1, 1, 1, 1, 1, 1, 1, 1, 1, 1, 1, 1, 1, 1, 1, 1, 1, 1, 1, 1, 1, 1, 1, 1, 1, 1, 1, 1, 1, 1, 1, 1, 1, 1, 1, 1, 1, 1, 1, 1, 1, 1, 1, 1, 1, 1, 1, 1, 1, 1, 1, 1, 1, 1, 1, 1, 1, 1, 1, 1, 1, 1, 1, 1, 1, 1, 1, 1, 1], [1, 1, 1, 1, 1, 1, 1, 1, 1, 1, 1, 1, 1, 1, 1, 1, 1, 1, 1, 1, 1, 1, 1, 1, 1, 1, 1, 1, 1, 1, 1, 1, 1, 1, 1, 1, 1, 1, 1, 1, 1, 1, 1, 1, 1, 1, 1, 1, 1, 1, 1, 1, 1, 1, 1, 1, 1, 1, 1, 1, 1, 1, 1, 1, 1, 1, 1, 1, 1, 1, 1, 1, 1, 1, 1, 1, 1, 1, 1, 1, 1, 1, 1, 1, 1, 1, 1, 1, 1, 1, 1, 1, 1, 1, 1, 1, 1, 1, 1, 1, 1, 1, 1, 1, 1, 1, 1], [1, 1, 1, 1, 1, 1, 1, 1, 1, 1, 1, 1, 1, 1, 1, 1, 1, 1, 1, 1, 1, 1, 1, 1, 1, 1, 1, 1, 1, 1, 1, 1, 1, 1, 1, 1, 1, 1, 1, 1, 1, 1, 1, 1, 1, 1, 1, 1, 1, 1, 1, 1, 1, 1, 1, 1, 1, 1, 1, 1, 1, 1, 1, 1, 1, 1, 1, 1, 1, 1, 1, 1, 1, 1, 1, 1, 1, 1, 1, 1, 1, 1, 1, 1, 1, 1, 1, 1, 1, 1, 1, 1, 1, 1, 1, 1, 1, 1, 1, 1, 1, 1, 1, 1, 1, 1, 1, 1, 1, 1, 1, 1, 1, 1, 1, 1, 1, 1, 1, 1, 1, 1, 1, 1, 1, 1, 1, 1, 1, 1, 1, 1, 1, 1, 1, 1, 1, 1, 1, 1, 1, 1, 1, 1, 1, 1, 1, 1, 1, 1, 1, 1, 1, 1, 1, 1, 1, 1, 1, 1, 1, 1, 1, 1, 1, 1, 1, 1, 1, 1, 1, 1, 1, 1, 1, 1, 1, 1, 1, 1, 1, 1, 1, 1, 1, 1, 1, 1, 1, 1, 1, 1, 1, 1, 1, 1, 1, 1, 1, 1, 1, 1, 1, 1, 1, 1, 1, 1, 1, 1, 1, 1, 1, 1, 1, 1, 1, 1, 1, 1, 1, 1, 1, 1, 1, 1, 1, 1, 1, 1, 1, 1, 1, 1, 1, 1, 1, 1, 1, 1, 1, 1, 1, 1, 1, 1, 1, 1, 1, 1, 1, 1, 1, 1, 1, 1, 1, 1, 1, 1, 1, 1, 1, 1, 1, 1, 1, 1, 1, 1, 1, 1, 1, 1, 1, 1, 1, 1, 1, 1, 1, 1, 1, 1, 1, 1, 1, 1, 1, 1, 1, 1, 1, 1, 1, 1, 1, 1, 1, 1, 1, 1, 1, 1, 1, 1, 1, 1, 1, 1, 1, 1, 1, 1, 1, 1, 1, 1, 1, 1, 1, 1, 1, 1, 1, 1, 1, 1, 1, 1, 1, 1, 1, 1, 1, 1, 1, 1, 1, 1, 1, 1, 1, 1, 1, 1, 1, 1, 1, 1, 1, 1, 1, 1, 1, 1, 1, 1, 1, 1, 1, 1, 1, 1, 1, 1, 1, 1, 1, 1, 1, 1, 1, 1, 1, 1, 1, 1, 1, 1, 1, 1, 1, 1, 1, 1, 1, 1, 1, 1, 1, 1, 1, 1, 1, 1, 1, 1, 1, 1, 1, 1, 1, 1, 1, 1, 1, 1, 1, 1, 1, 1], [1, 1, 1, 1, 1, 1, 1, 1, 1, 1, 1, 1, 1, 1, 1, 1, 1, 1, 1, 1, 1, 1, 1, 1, 1, 1, 1, 1, 1, 1, 1, 1, 1, 1, 1, 1, 1, 1, 1, 1, 1, 1, 1, 1, 1, 1, 1, 1, 1, 1, 1, 1, 1, 1, 1, 1, 1, 1, 1, 1, 1, 1, 1, 1, 1, 1, 1, 1, 1, 1, 1, 1, 1, 1, 1, 1, 1, 1, 1, 1, 1, 1, 1, 1, 1, 1, 1, 1, 1, 1, 1, 1, 1, 1, 1, 1, 1, 1, 1, 1, 1, 1, 1, 1, 1, 1, 1, 1, 1, 1, 1, 1, 1, 1, 1, 1, 1, 1, 1, 1, 1, 1, 1, 1, 1, 1, 1, 1, 1, 1, 1, 1, 1, 1, 1, 1, 1, 1, 1, 1, 1, 1, 1, 1, 1, 1, 1, 1, 1, 1, 1, 1, 1, 1, 1, 1, 1, 1, 1, 1, 1, 1, 1, 1, 1, 1, 1, 1, 1, 1, 1, 1, 1, 1, 1, 1, 1, 1, 1, 1, 1, 1, 1, 1, 1, 1, 1, 1, 1, 1, 1, 1], [1, 1, 1, 1, 1, 1, 1, 1, 1, 1, 1, 1, 1, 1, 1, 1, 1, 1, 1, 1, 1, 1, 1, 1, 1, 1, 1, 1, 1], [1, 1, 1, 1, 1, 1, 1, 1, 1, 1, 1, 1, 1, 1, 1, 1, 1, 1, 1, 1, 1, 1, 1, 1, 1, 1, 1, 1, 1, 1, 1, 1], [1, 1, 1, 1, 1, 1, 1, 1, 1, 1, 1, 1, 1, 1, 1], [1, 1, 1, 1, 1, 1, 1, 1, 1, 1], [1, 1, 1, 1, 1, 1, 1, 1, 1, 1, 1, 1, 1, 1, 1, 1, 1, 1, 1], [1, 1, 1, 1, 1, 1, 1, 1, 1, 1, 1, 1, 1, 1, 1, 1, 1, 1, 1, 1, 1, 1, 1, 1, 1, 1, 1, 1, 1, 1, 1, 1, 1, 1, 1, 1, 1, 1, 1, 1, 1, 1, 1, 1, 1, 1, 1, 1], [1, 1, 1, 1, 1, 1, 1, 1, 1, 1, 1, 1, 1, 1, 1, 1, 1, 1, 1, 1, 1, 1, 1, 1, 1, 1, 1, 1, 1, 1, 1, 1, 1, 1, 1, 1, 1, 1, 1, 1, 1, 1, 1, 1, 1, 1, 1, 1, 1, 1], [1, 1, 1, 1, 1, 1, 1, 1, 1, 1, 1, 1, 1, 1, 1, 1, 1, 1, 1], [1, 1, 1, 1, 1, 1, 1, 1, 1, 1, 1, 1, 1, 1, 1, 1, 1, 1, 1, 1, 1, 1, 1, 1, 1, 1, 1, 1, 1, 1, 1, 1, 1, 1, 1, 1, 1, 1, 1, 1, 1, 1, 1, 1, 1, 1, 1, 1, 1, 1, 1, 1, 1, 1, 1, 1, 1, 1, 1, 1, 1, 1, 1, 1, 1, 1, 1, 1, 1, 1, 1, 1, 1, 1, 1, 1, 1, 1, 1, 1, 1, 1, 1, 1, 1, 1, 1, 1, 1, 1, 1], [1, 1, 1, 1, 1, 1, 1, 1, 1, 1, 1, 1, 1, 1, 1, 1, 1, 1, 1, 1, 1, 1, 1, 1, 1, 1, 1, 1, 1, 1, 1, 1, 1, 1, 1, 1, 1, 1, 1, 1, 1, 1, 1, 1, 1, 1, 1, 1, 1, 1, 1, 1, 1, 1, 1, 1, 1, 1, 1, 1, 1, 1, 1, 1], [1, 1, 1, 1, 1, 1, 1, 1, 1, 1, 1, 1, 1, 1, 1, 1, 1, 1, 1, 1, 1, 1, 1, 1, 1, 1, 1, 1, 1, 1, 1, 1, 1, 1, 1, 1, 1, 1, 1, 1, 1, 1, 1, 1, 1, 1, 1, 1, 1, 1, 1, 1, 1, 1, 1, 1, 1, 1, 1, 1, 1, 1, 1, 1, 1, 1, 1, 1, 1, 1, 1, 1, 1, 1, 1, 1, 1, 1, 1, 1, 1, 1, 1, 1, 1, 1, 1, 1, 1, 1, 1, 1, 1, 1, 1, 1, 1, 1, 1, 1, 1, 1, 1, 1, 1, 1, 1, 1, 1, 1, 1, 1, 1, 1, 1, 1, 1, 1, 1, 1, 1, 1, 1, 1, 1, 1, 1, 1, 1, 1, 1, 1, 1, 1, 1, 1, 1, 1, 1, 1, 1, 1, 1, 1, 1, 1, 1, 1, 1, 1, 1, 1, 1, 1, 1, 1, 1, 1, 1, 1, 1, 1, 1, 1, 1, 1, 1, 1, 1, 1, 1, 1, 1, 1, 1, 1, 1, 1, 1, 1, 1, 1, 1, 1, 1, 1, 1, 1, 1, 1, 1, 1, 1, 1, 1, 1, 1, 1, 1, 1, 1, 1, 1, 1, 1, 1, 1, 1, 1, 1, 1, 1, 1, 1, 1, 1, 1, 1, 1, 1, 1, 1, 1, 1, 1, 1, 1, 1, 1, 1, 1, 1, 1, 1, 1, 1, 1, 1, 1, 1, 1, 1, 1, 1, 1, 1, 1, 1, 1, 1, 1, 1, 1, 1, 1, 1, 1, 1, 1, 1, 1, 1, 1, 1, 1, 1, 1, 1, 1, 1, 1, 1, 1, 1, 1, 1, 1, 1, 1, 1, 1, 1, 1, 1, 1, 1, 1, 1, 1, 1, 1, 1, 1, 1, 1, 1, 1, 1, 1, 1, 1, 1, 1, 1, 1, 1, 1, 1, 1, 1, 1, 1, 1, 1, 1, 1, 1, 1, 1, 1, 1, 1, 1, 1, 1, 1, 1, 1, 1, 1, 1, 1, 1, 1, 1, 1, 1, 1, 1, 1, 1, 1, 1, 1, 1, 1, 1, 1, 1, 1, 1, 1, 1, 1, 1, 1, 1, 1, 1, 1, 1, 1, 1, 1, 1, 1, 1, 1, 1, 1, 1, 1, 1, 1, 1, 1, 1, 1, 1, 1, 1, 1, 1, 1, 1, 1, 1, 1, 1, 1, 1, 1, 1, 1, 1, 1, 1, 1, 1, 1, 1, 1, 1, 1, 1, 1, 1, 1, 1, 1, 1, 1, 1, 1, 1, 1, 1, 1, 1, 1, 1, 1, 1, 1, 1, 1, 1, 1, 1, 1, 1, 1, 1, 1, 1, 1, 1, 1, 1, 1, 1, 1, 1, 1, 1, 1, 1, 1, 1, 1, 1, 1, 1, 1], [1, 1, 1, 1, 1, 1, 1, 1, 1, 1, 1, 1, 1, 1, 1, 1, 1, 1, 1, 1, 1, 1, 1, 1, 1, 1, 1, 1, 1, 1, 1, 1, 1, 1, 1, 1, 1, 1, 1, 1, 1, 1, 1, 1, 1, 1, 1, 1, 1, 1, 1, 1, 1, 1, 1, 1, 1, 1, 1, 1, 1, 1, 1, 1, 1, 1, 1, 1, 1, 1, 1, 1, 1, 1, 1, 1, 1, 1, 1, 1, 1, 1, 1, 1, 1, 1, 1, 1, 1, 1, 1, 1, 1, 1, 1, 1, 1, 1, 1, 1, 1, 1, 1, 1, 1, 1, 1, 1, 1, 1, 1, 1, 1, 1, 1, 1, 1, 1, 1, 1, 1, 1, 1, 1, 1, 1, 1, 1, 1, 1, 1, 1, 1, 1, 1, 1, 1, 1, 1, 1, 1, 1, 1, 1, 1, 1, 1, 1, 1, 1, 1, 1, 1, 1, 1, 1, 1, 1, 1, 1, 1, 1, 1, 1, 1, 1, 1, 1, 1, 1, 1, 1, 1, 1, 1, 1, 1, 1, 1, 1, 1, 1, 1, 1, 1, 1, 1, 1, 1, 1, 1, 1, 1, 1, 1, 1, 1, 1, 1, 1, 1, 1, 1, 1, 1, 1, 1, 1, 1, 1, 1, 1, 1, 1, 1, 1, 1, 1, 1, 1, 1, 1, 1, 1, 1, 1, 1, 1, 1, 1, 1, 1, 1, 1, 1, 1, 1, 1, 1, 1, 1, 1, 1, 1, 1, 1, 1, 1, 1, 1, 1, 1, 1, 1, 1, 1, 1, 1, 1, 1, 1, 1, 1, 1, 1, 1, 1, 1, 1, 1, 1, 1, 1, 1, 1, 1, 1, 1, 1, 1, 1, 1, 1, 1, 1, 1, 1, 1, 1, 1, 1, 1, 1, 1, 1, 1, 1, 1, 1, 1, 1, 1, 1, 1, 1, 1, 1, 1, 1, 1, 1, 1, 1, 1, 1, 1, 1, 1, 1, 1, 1, 1, 1, 1, 1, 1, 1, 1, 1, 1, 1, 1, 1, 1, 1, 1, 1, 1, 1, 1, 1, 1, 1, 1, 1, 1, 1, 1, 1, 1, 1, 1], [1, 1, 1, 1, 1, 1, 1, 1, 1, 1, 1, 1, 1, 1, 1, 1, 1, 1, 1, 1, 1, 1, 1, 1, 1, 1, 1, 1, 1, 1, 1, 1, 1, 1, 1, 1, 1, 1, 1, 1, 1, 1, 1, 1, 1, 1, 1, 1, 1, 1, 1, 1, 1, 1, 1, 1, 1, 1, 1, 1, 1, 1, 1, 1, 1, 1, 1, 1, 1, 1, 1, 1, 1, 1, 1, 1, 1, 1, 1, 1, 1, 1, 1, 1, 1, 1, 1, 1, 1, 1, 1, 1, 1, 1, 1, 1, 1, 1, 1, 1, 1, 1, 1, 1, 1, 1, 1, 1, 1, 1, 1, 1, 1, 1, 1, 1, 1, 1, 1, 1, 1, 1, 1, 1, 1, 1, 1, 1, 1, 1, 1, 1, 1, 1, 1, 1, 1, 1, 1], [1, 1, 1, 1, 1, 1, 1, 1, 1, 1, 1, 1, 1, 1, 1, 1, 1, 1, 1, 1, 1, 1, 1, 1, 1, 1, 1, 1, 1, 1, 1, 1, 1, 1, 1, 1, 1, 1, 1, 1, 1, 1, 1, 1, 1, 1, 1, 1, 1, 1, 1, 1, 1, 1, 1, 1, 1, 1, 1, 1, 1, 1, 1, 1, 1, 1, 1, 1, 1, 1, 1, 1, 1, 1, 1, 1, 1, 1, 1, 1, 1, 1, 1, 1, 1, 1, 1, 1, 1], [1, 1, 1, 1, 1, 1, 1, 1, 1, 1, 1, 1, 1, 1, 1, 1, 1, 1, 1, 1, 1, 1, 1, 1, 1, 1, 1, 1, 1, 1, 1, 1, 1, 1, 1, 1, 1, 1, 1, 1, 1, 1, 1, 1, 1, 1, 1, 1, 1, 1, 1, 1, 1, 1, 1, 1, 1, 1, 1, 1, 1, 1, 1, 1, 1, 1, 1, 1, 1, 1, 1, 1, 1, 1, 1, 1, 1, 1, 1, 1, 1, 1, 1, 1, 1, 1, 1, 1, 1, 1, 1, 1, 1, 1, 1, 1, 1, 1, 1, 1, 1, 1, 1, 1, 1, 1, 1, 1, 1, 1, 1, 1, 1, 1, 1, 1, 1, 1, 1, 1, 1, 1, 1, 1, 1, 1, 1, 1, 1, 1, 1, 1, 1, 1, 1, 1, 1, 1, 1, 1, 1, 1, 1, 1, 1, 1, 1, 1, 1, 1, 1, 1, 1, 1, 1, 1, 1, 1, 1, 1, 1, 1, 1, 1, 1, 1, 1, 1, 1, 1, 1, 1, 1, 1, 1, 1, 1, 1, 1, 1, 1, 1, 1, 1, 1, 1, 1, 1, 1, 1, 1, 1, 1, 1, 1, 1, 1, 1, 1, 1, 1, 1, 1, 1, 1, 1, 1, 1, 1, 1, 1, 1, 1, 1, 1, 1, 1, 1, 1, 1, 1, 1, 1, 1, 1, 1, 1, 1, 1, 1, 1, 1, 1, 1, 1, 1, 1, 1, 1, 1, 1, 1, 1, 1, 1, 1, 1, 1, 1, 1, 1, 1, 1, 1, 1, 1, 1, 1, 1, 1, 1, 1, 1, 1, 1, 1, 1, 1, 1, 1, 1, 1, 1, 1, 1, 1, 1, 1, 1, 1, 1, 1, 1, 1, 1, 1, 1, 1, 1, 1, 1, 1, 1, 1, 1, 1, 1, 1, 1, 1, 1, 1, 1, 1, 1, 1, 1, 1, 1, 1, 1, 1, 1, 1, 1, 1, 1, 1, 1, 1, 1, 1, 1, 1, 1, 1, 1, 1, 1, 1, 1, 1, 1, 1, 1, 1, 1, 1, 1, 1, 1, 1, 1, 1, 1, 1, 1, 1, 1, 1, 1, 1, 1, 1, 1, 1, 1, 1, 1, 1, 1, 1, 1, 1, 1, 1, 1, 1, 1, 1, 1, 1, 1, 1, 1, 1, 1, 1, 1, 1, 1, 1, 1, 1, 1, 1, 1, 1, 1, 1, 1, 1, 1, 1, 1, 1, 1, 1, 1, 1, 1, 1, 1, 1, 1, 1, 1, 1, 1, 1, 1, 1, 1, 1, 1, 1, 1, 1, 1, 1, 1, 1, 1], [1, 1, 1, 1, 1, 1, 1, 1, 1], [1, 1, 1, 1, 1, 1, 1, 1, 1, 1, 1, 1, 1, 1, 1, 1, 1, 1, 1, 1, 1, 1, 1, 1, 1, 1, 1, 1, 1, 1, 1, 1, 1, 1, 1, 1, 1, 1, 1, 1, 1, 1, 1, 1, 1, 1, 1, 1, 1, 1, 1, 1, 1, 1, 1, 1, 1, 1, 1, 1, 1, 1], [1, 1, 1, 1, 1, 1, 1, 1, 1, 1, 1, 1, 1, 1, 1, 1, 1, 1, 1, 1, 1, 1, 1, 1, 1, 1, 1, 1, 1, 1, 1, 1, 1, 1, 1, 1, 1, 1, 1, 1, 1, 1, 1, 1, 1, 1, 1, 1, 1, 1, 1, 1, 1, 1, 1, 1, 1, 1, 1, 1, 1, 1, 1, 1, 1, 1, 1, 1, 1, 1, 1, 1, 1, 1, 1, 1, 1, 1, 1, 1, 1, 1, 1, 1, 1, 1, 1, 1, 1, 1, 1, 1, 1, 1, 1, 1, 1, 1, 1, 1, 1, 1, 1, 1, 1, 1, 1, 1, 1, 1, 1, 1, 1, 1, 1, 1, 1, 1, 1, 1, 1, 1, 1, 1, 1, 1, 1, 1, 1, 1, 1, 1, 1, 1, 1, 1, 1, 1, 1, 1, 1, 1, 1, 1, 1, 1, 1, 1, 1, 1, 1, 1, 1, 1, 1, 1, 1, 1, 1, 1, 1, 1, 1, 1, 1, 1, 1, 1, 1, 1, 1, 1, 1, 1, 1, 1, 1, 1, 1, 1, 1, 1, 1, 1, 1, 1, 1, 1, 1, 1, 1, 1, 1, 1, 1, 1, 1, 1, 1, 1, 1, 1, 1, 1, 1, 1, 1, 1, 1, 1, 1, 1, 1, 1, 1, 1, 1, 1, 1, 1, 1, 1, 1, 1, 1, 1, 1, 1, 1, 1, 1, 1, 1, 1, 1, 1, 1, 1, 1, 1, 1, 1, 1, 1, 1, 1, 1, 1, 1, 1, 1, 1, 1, 1, 1, 1, 1, 1, 1, 1, 1, 1, 1, 1, 1, 1, 1, 1], [1, 1, 1, 1, 1, 1, 1, 1, 1, 1, 1, 1, 1, 1], [1, 1, 1, 1, 1, 1, 1, 1, 1, 1, 1, 1], [1, 1, 1, 1, 1, 1, 1, 1, 1, 1, 1, 1, 1, 1, 1, 1, 1, 1, 1, 1, 1, 1, 1, 1, 1, 1, 1, 1, 1, 1, 1, 1, 1, 1, 1, 1, 1, 1, 1, 1, 1, 1, 1, 1, 1, 1, 1, 1, 1, 1, 1, 1, 1, 1, 1, 1, 1, 1, 1, 1, 1, 1, 1, 1, 1, 1, 1, 1, 1, 1, 1, 1, 1, 1, 1, 1, 1, 1, 1, 1, 1, 1, 1, 1, 1, 1, 1, 1, 1, 1, 1, 1, 1, 1, 1, 1, 1, 1, 1, 1, 1, 1, 1, 1, 1, 1, 1, 1, 1, 1, 1, 1, 1, 1, 1, 1, 1, 1, 1, 1, 1, 1, 1, 1, 1, 1, 1, 1, 1, 1, 1, 1, 1, 1, 1, 1, 1, 1, 1, 1, 1, 1, 1, 1, 1, 1, 1, 1, 1, 1, 1, 1, 1, 1, 1, 1, 1, 1, 1, 1, 1, 1, 1, 1, 1, 1, 1, 1, 1, 1, 1, 1, 1, 1, 1, 1, 1, 1, 1, 1, 1, 1, 1, 1, 1, 1, 1, 1, 1, 1, 1, 1, 1, 1, 1, 1, 1, 1, 1, 1, 1, 1, 1, 1, 1, 1, 1, 1, 1, 1, 1, 1, 1, 1, 1, 1, 1, 1, 1, 1, 1, 1, 1, 1, 1, 1, 1, 1, 1, 1, 1, 1, 1, 1, 1, 1, 1, 1, 1, 1, 1, 1, 1, 1, 1, 1, 1, 1, 1, 1, 1, 1, 1, 1, 1, 1, 1, 1, 1, 1, 1, 1, 1, 1, 1, 1, 1, 1, 1, 1, 1, 1, 1, 1, 1, 1, 1, 1, 1, 1, 1, 1, 1, 1, 1, 1, 1, 1, 1, 1, 1, 1, 1, 1, 1, 1, 1, 1, 1, 1, 1, 1, 1, 1, 1, 1, 1, 1, 1, 1, 1, 1, 1, 1, 1], [1, 1, 1, 1, 1, 1, 1, 1, 1, 1, 1, 1, 1, 1, 1, 1, 1, 1, 1, 1, 1, 1, 1, 1, 1, 1, 1, 1, 1, 1, 1, 1, 1, 1, 1, 1, 1, 1, 1, 1, 1, 1, 1, 1, 1, 1, 1, 1, 1, 1, 1, 1, 1, 1, 1, 1, 1, 1, 1, 1, 1, 1, 1, 1, 1, 1, 1, 1, 1, 1, 1, 1, 1, 1, 1, 1, 1, 1, 1, 1, 1, 1, 1, 1, 1, 1, 1, 1, 1, 1, 1, 1, 1, 1, 1, 1, 1, 1, 1, 1, 1, 1, 1, 1, 1, 1, 1, 1, 1, 1, 1, 1, 1, 1, 1, 1, 1, 1, 1, 1, 1, 1, 1, 1, 1, 1, 1, 1, 1, 1, 1, 1, 1, 1, 1, 1, 1, 1, 1, 1, 1, 1, 1, 1, 1, 1, 1, 1, 1, 1, 1, 1, 1, 1, 1, 1, 1, 1, 1, 1, 1, 1, 1, 1, 1, 1, 1, 1, 1, 1, 1, 1, 1, 1, 1, 1, 1, 1, 1, 1, 1, 1, 1, 1, 1, 1, 1, 1, 1, 1, 1, 1, 1, 1, 1, 1, 1, 1, 1, 1, 1, 1, 1, 1, 1, 1, 1, 1, 1, 1, 1, 1, 1, 1, 1, 1, 1, 1, 1, 1, 1, 1, 1, 1, 1, 1, 1, 1, 1, 1, 1, 1, 1, 1, 1, 1, 1, 1, 1, 1, 1, 1, 1, 1, 1, 1, 1, 1, 1, 1, 1, 1, 1, 1, 1, 1, 1, 1, 1, 1, 1, 1, 1, 1, 1, 1, 1, 1, 1, 1, 1, 1, 1, 1, 1, 1, 1, 1, 1, 1, 1, 1, 1, 1, 1, 1, 1, 1, 1, 1, 1, 1, 1, 1, 1, 1, 1, 1, 1, 1, 1, 1, 1, 1, 1, 1, 1, 1, 1, 1, 1, 1, 1, 1, 1, 1, 1, 1, 1, 1, 1, 1, 1, 1, 1, 1, 1, 1, 1, 1, 1, 1, 1, 1, 1, 1, 1, 1, 1, 1, 1, 1, 1, 1, 1, 1, 1, 1, 1, 1, 1, 1, 1, 1, 1, 1, 1, 1, 1, 1, 1, 1, 1, 1, 1, 1, 1, 1, 1, 1, 1, 1, 1, 1, 1, 1, 1, 1, 1, 1, 1, 1, 1, 1, 1, 1, 1, 1, 1, 1, 1, 1, 1, 1, 1, 1, 1, 1, 1, 1, 1, 1, 1, 1, 1, 1, 1, 1, 1, 1, 1, 1, 1, 1, 1, 1, 1, 1, 1, 1, 1, 1, 1, 1, 1, 1, 1, 1, 1, 1, 1, 1, 1, 1, 1, 1, 1, 1, 1, 1, 1, 1, 1, 1, 1, 1, 1, 1, 1, 1, 1, 1, 1, 1, 1, 1, 1, 1, 1, 1, 1, 1, 1, 1, 1, 1, 1, 1, 1, 1, 1, 1, 1, 1, 1, 1, 1, 1, 1, 1, 1, 1, 1, 1, 1, 1, 1, 1, 1, 1, 1, 1, 1, 1, 1, 1, 1, 1, 1, 1, 1, 1, 1, 1, 1, 1, 1, 1, 1, 1, 1, 1, 1, 1, 1, 1, 1, 1, 1, 1, 1, 1, 1, 1, 1, 1, 1, 1, 1, 1, 1, 1, 1, 1, 1, 1, 1, 1, 1, 1, 1, 1, 1, 1, 1, 1, 1, 1, 1, 1, 1, 1, 1, 1, 1, 1, 1, 1, 1, 1, 1, 1, 1, 1, 1, 1, 1, 1, 1, 1, 1, 1, 1, 1, 1, 1, 1, 1, 1, 1], [1, 1, 1, 1, 1, 1, 1, 1, 1, 1, 1, 1, 1, 1, 1, 1, 1, 1, 1, 1, 1, 1, 1, 1, 1, 1, 1, 1, 1, 1, 1, 1, 1, 1, 1, 1, 1, 1, 1, 1, 1, 1, 1, 1, 1, 1, 1, 1, 1, 1, 1, 1], [1, 1, 1, 1, 1, 1, 1, 1, 1, 1, 1, 1, 1, 1, 1, 1, 1, 1, 1, 1, 1, 1, 1, 1, 1, 1, 1, 1, 1, 1, 1, 1, 1, 1, 1, 1, 1, 1, 1, 1, 1, 1, 1, 1, 1, 1, 1, 1, 1, 1, 1, 1, 1, 1, 1, 1, 1, 1, 1, 1, 1, 1, 1, 1, 1, 1, 1, 1, 1, 1, 1, 1, 1, 1, 1, 1, 1, 1, 1, 1, 1, 1, 1, 1, 1, 1, 1, 1, 1, 1, 1, 1, 1, 1, 1, 1, 1, 1, 1, 1, 1, 1, 1, 1, 1, 1, 1, 1, 1, 1, 1, 1, 1, 1, 1, 1, 1, 1, 1, 1, 1, 1, 1, 1, 1, 1, 1, 1, 1, 1, 1, 1, 1, 1, 1, 1, 1, 1, 1, 1, 1, 1, 1, 1, 1, 1, 1, 1, 1, 1, 1, 1, 1, 1, 1, 1, 1, 1, 1, 1, 1, 1, 1, 1, 1, 1, 1, 1, 1, 1, 1, 1, 1, 1, 1, 1, 1, 1, 1, 1, 1, 1, 1, 1, 1, 1, 1, 1, 1, 1, 1, 1, 1, 1, 1, 1, 1, 1, 1, 1, 1, 1, 1, 1, 1, 1, 1, 1, 1, 1, 1, 1, 1, 1, 1, 1, 1, 1, 1, 1, 1, 1, 1, 1, 1, 1, 1, 1, 1, 1, 1, 1, 1, 1, 1, 1, 1, 1, 1, 1, 1, 1, 1, 1, 1, 1, 1, 1, 1, 1, 1, 1, 1, 1, 1, 1, 1, 1, 1, 1, 1, 1, 1, 1, 1, 1, 1, 1, 1, 1]]}"
            ]
          },
          "metadata": {},
          "execution_count": 26
        }
      ]
    },
    {
      "cell_type": "markdown",
      "source": [
        "save tokenizer"
      ],
      "metadata": {
        "id": "4jYTq1BIvZ0U"
      }
    },
    {
      "cell_type": "code",
      "source": [
        "new_tokenizer.save_pretrained(\"HelpingAI\")"
      ],
      "metadata": {
        "id": "62HDq1gCvYGV",
        "colab": {
          "base_uri": "https://localhost:8080/"
        },
        "outputId": "b0bdfd03-9590-4fe4-dd83-895ee5d3443e"
      },
      "execution_count": 27,
      "outputs": [
        {
          "output_type": "execute_result",
          "data": {
            "text/plain": [
              "('HelpingAI/tokenizer_config.json',\n",
              " 'HelpingAI/special_tokens_map.json',\n",
              " 'HelpingAI/tokenizer.json')"
            ]
          },
          "metadata": {},
          "execution_count": 27
        }
      ]
    },
    {
      "cell_type": "markdown",
      "source": [
        "**Pusinging New tokenizer to huggingface hub**"
      ],
      "metadata": {
        "id": "AJaidDy6vwFp"
      }
    },
    {
      "cell_type": "code",
      "source": [
        "from huggingface_hub import notebook_login\n",
        "\n",
        "notebook_login()"
      ],
      "metadata": {
        "id": "2Wk8IvRiv3CB",
        "colab": {
          "base_uri": "https://localhost:8080/",
          "height": 416,
          "referenced_widgets": [
            "ef0df1b9db6a48c18065b1148e90c401",
            "41a930108455403ca18eec57822a14bc",
            "d7b8935b89cb4d51adba941a6679aa10",
            "70d0b9e80d8b417a97c546be63b6575d",
            "7b9f7200adcf4eacb4473a10572219ea",
            "6e7d844bf042477398d97a59c6d0b83a",
            "a1ed668cd09844deac1a196bad51ccd7",
            "fe0b5fc987be403688c5ca97163e531c",
            "962a93f249eb42e9affcdfd387d24ea7",
            "42c1a87a4e49427b89b237c37f1a7434",
            "c7012676081f4a8791c863f773e225d9",
            "abffe7fb2dc5493ea2abd6ebcb3fe2ef",
            "3360d1b376ac47269e78b61676912ddc",
            "fce541c194a3416190bd51820ace5a2f",
            "22b4874931cb48cfa1606755cdb303a5",
            "4b864f7af195460a9e31f1da4520415b",
            "d212544c19744da5b4758f50460e39e3"
          ]
        },
        "outputId": "6eed02d8-a163-4f48-de0c-1645ce35609a"
      },
      "execution_count": 28,
      "outputs": [
        {
          "output_type": "display_data",
          "data": {
            "text/plain": [
              "VBox(children=(HTML(value='<center> <img\\nsrc=https://huggingface.co/front/assets/huggingface_logo-noborder.sv…"
            ],
            "application/vnd.jupyter.widget-view+json": {
              "version_major": 2,
              "version_minor": 0,
              "model_id": "ef0df1b9db6a48c18065b1148e90c401"
            }
          },
          "metadata": {}
        }
      ]
    },
    {
      "cell_type": "markdown",
      "source": [
        "it is necessary that you have git lfs installed"
      ],
      "metadata": {
        "id": "pzprr8jn4upV"
      }
    },
    {
      "cell_type": "code",
      "source": [
        "!apt install git-lfs"
      ],
      "metadata": {
        "id": "jsGFp0M32tVx",
        "colab": {
          "base_uri": "https://localhost:8080/"
        },
        "outputId": "b2f8b4c0-b9c0-4984-a86d-e9bf27a3bf81"
      },
      "execution_count": 29,
      "outputs": [
        {
          "output_type": "stream",
          "name": "stdout",
          "text": [
            "Reading package lists... Done\n",
            "Building dependency tree... Done\n",
            "Reading state information... Done\n",
            "git-lfs is already the newest version (3.0.2-1ubuntu0.2).\n",
            "0 upgraded, 0 newly installed, 0 to remove and 39 not upgraded.\n"
          ]
        }
      ]
    },
    {
      "cell_type": "code",
      "source": [
        "new_tokenizer.push_to_hub(\"HelpingAI\")"
      ],
      "metadata": {
        "id": "ioinemJ15KXZ",
        "colab": {
          "base_uri": "https://localhost:8080/",
          "height": 121,
          "referenced_widgets": [
            "28fdc0b01e764f3285d382700d72288c",
            "001cfc92ad664a61a9b42e32f46a9e35",
            "9b8e49b1df164d3a9b005141adc358dd",
            "b119a225534344f7ad3ed0de613dcde3",
            "bb161c988eea40a9b96b836cf54f987d",
            "9c3e6070e3fb44ab981232e459d95b8a",
            "3ef29c2c39b343ea9ff7656d31bcfbc5",
            "955a78fe6c0a46acaa13f84249db7b9e",
            "8f9ef3d1894f4af0aa905edd46983fa5",
            "24f6d1a6ca0d48c8a8606bd2d4dc84d8",
            "3da87637fe6d4f779a0797d494cede46"
          ]
        },
        "outputId": "8d72a746-bbc1-4827-c645-0a7d22ca39e1"
      },
      "execution_count": 30,
      "outputs": [
        {
          "output_type": "display_data",
          "data": {
            "text/plain": [
              "README.md:   0%|          | 0.00/5.18k [00:00<?, ?B/s]"
            ],
            "application/vnd.jupyter.widget-view+json": {
              "version_major": 2,
              "version_minor": 0,
              "model_id": "28fdc0b01e764f3285d382700d72288c"
            }
          },
          "metadata": {}
        },
        {
          "output_type": "execute_result",
          "data": {
            "text/plain": [
              "CommitInfo(commit_url='https://huggingface.co/Abhaykoul/HelpingAI/commit/504224b6cc99368217e2f7ddfea445604a0ef95e', commit_message='Upload tokenizer', commit_description='', oid='504224b6cc99368217e2f7ddfea445604a0ef95e', pr_url=None, pr_revision=None, pr_num=None)"
            ],
            "application/vnd.google.colaboratory.intrinsic+json": {
              "type": "string"
            }
          },
          "metadata": {},
          "execution_count": 30
        }
      ]
    }
  ]
}